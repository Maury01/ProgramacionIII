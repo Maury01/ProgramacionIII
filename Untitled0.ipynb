{
  "nbformat": 4,
  "nbformat_minor": 0,
  "metadata": {
    "colab": {
      "name": "Untitled0.ipynb",
      "provenance": [],
      "collapsed_sections": [],
      "authorship_tag": "ABX9TyPZr4JBKGMOn8Benkhf3H4m",
      "include_colab_link": true
    },
    "kernelspec": {
      "name": "python3",
      "display_name": "Python 3"
    },
    "language_info": {
      "name": "python"
    },
    "widgets": {
      "application/vnd.jupyter.widget-state+json": {}
    }
  },
  "cells": [
    {
      "cell_type": "markdown",
      "metadata": {
        "id": "view-in-github",
        "colab_type": "text"
      },
      "source": [
        "<a href=\"https://colab.research.google.com/github/Maury01/ProgramacionIII/blob/main/Untitled0.ipynb\" target=\"_parent\"><img src=\"https://colab.research.google.com/assets/colab-badge.svg\" alt=\"Open In Colab\"/></a>"
      ]
    },
    {
      "cell_type": "code",
      "metadata": {
        "colab": {
          "base_uri": "https://localhost:8080/"
        },
        "id": "s4PlCka7WIiE",
        "outputId": "89c1d31d-c58f-4551-f653-39e58f3b815b"
      },
      "source": [
        "#Ejercicio 3\n",
        "nmeses = int(input(\"Meses: \"))\n",
        "i = 0\n",
        "acumulacion = 0\n",
        "while( i<= nmeses):\n",
        "  acumulacion += i\n",
        "  i+=1\n",
        "print(\"Meses: \", nmeses, \" acumulado: \", acumulacion)\n"
      ],
      "execution_count": null,
      "outputs": [
        {
          "output_type": "stream",
          "name": "stdout",
          "text": [
            "Meses: 8\n",
            "Meses:  8  acumulado:  36\n"
          ]
        }
      ]
    },
    {
      "cell_type": "code",
      "metadata": {
        "colab": {
          "base_uri": "https://localhost:8080/"
        },
        "id": "22W-yj9yaiYq",
        "outputId": "97ea4501-0d89-4cfc-8a8d-2dd3c852daea"
      },
      "source": [
        "nmeses = int(input(\"Meses:\" ))\n",
        "Cantidad = nmeses*(nmeses/2+0.5)\n",
        "print(\"El acumulado de: \", nmeses, \" Meses es: \", Cantidad)"
      ],
      "execution_count": null,
      "outputs": [
        {
          "output_type": "stream",
          "name": "stdout",
          "text": [
            "Meses:6\n",
            "El acumulado de:  6  Meses es:  21.0\n"
          ]
        }
      ]
    },
    {
      "cell_type": "code",
      "metadata": {
        "id": "VYFmipKLXZzk"
      },
      "source": [
        "#Ejercicio 4 conversor\n",
        "etiquetas = [\n",
        "            [],  #0\n",
        "            [0], #monedas\n",
        "            [0], #Longitud\n",
        "            [0], #Masa\n",
        "            [0], #Almacenamiento\n",
        "            [0], #Tiempo\n",
        "            [0], #Volumen\n",
        "            [0] #Area\n",
        "]\n",
        "valores = [\n",
        "           [],#\n",
        "           [0], #monedas\n",
        "           [0], #Longitud\n",
        "           [0], #Masa\n",
        "           [0], #Almacenamiento\n",
        "           [0], #Tiempo\n",
        "           [0], #Volumen\n",
        "           [0] #Area\n",
        "]\n",
        "def conversores(opcion, de, a, cantidad):\n",
        "  return valores[opcion][a] / valores[opcion][de] * cantidad\n",
        "\n",
        "print(\" ** MENU CONVERSORES ** \")\n",
        "print(\" 1. Monedas, \\n 2. Longitud \\n 3. Masa \\n 4. Almacenamiento \")\n",
        "opcion = int(input(\"CONVERSOR: \"))\n",
        "\n",
        "print( etiquetas[opcion] )\n",
        "de = int(input(\"DE: \"))\n",
        "a = int(input(\"A: \"))\n",
        "cantidad = float(input(\"Cantidad: \"))\n",
        "\n",
        "print( etiquetas[opcion][de], \" a \", etiquetas[opcion][a], \" es: \", conversores(opcion, de, a, cantidad) )"
      ],
      "execution_count": null,
      "outputs": []
    },
    {
      "cell_type": "code",
      "metadata": {
        "id": "ZOy7LJLs_rrV"
      },
      "source": [
        "#Libreria panda\n",
        "import pandas as pd\n",
        "#Libreria MatPlotLib\n",
        "import matplotlib.pyplot as plt\n"
      ],
      "execution_count": null,
      "outputs": []
    },
    {
      "cell_type": "code",
      "metadata": {
        "colab": {
          "base_uri": "https://localhost:8080/"
        },
        "id": "BCvsW8mu_1qL",
        "outputId": "ded631d6-71de-491b-afe6-5faa5e52feea"
      },
      "source": [
        "LenguajesProgramacion = pd.Series([\"VB\", \"JAVA\", \"Python\", \"HTML\", \"CSS\", \"JS\", \"C#\", \"PHP\", \"XML\"],  index=[1, 2, 3, 4, 4, 4, 5, 4, 6])\n",
        "#print(LenguajesProgramacion, LenguajesProgramacion[4])\n",
        "\n",
        "MisLenguajes = {\n",
        "    1: \"VB\",\n",
        "    2: \"JAVA\",\n",
        "    3: \"Python\",\n",
        "    4: \"HTML\",\n",
        "    5: \"CSS\",\n",
        "    6: \"JS\",\n",
        "    0: \"C#\",\n",
        "    8: \"PHP\",\n",
        "    10: \"XML\"\n",
        "}\n",
        "\n",
        "DiccionarioLenguajes = pd.Series(MisLenguajes)\n",
        "print(DiccionarioLenguajes, DiccionarioLenguajes[1])"
      ],
      "execution_count": null,
      "outputs": [
        {
          "output_type": "stream",
          "name": "stdout",
          "text": [
            "1         VB\n",
            "2       JAVA\n",
            "3     Python\n",
            "4       HTML\n",
            "5        CSS\n",
            "6         JS\n",
            "0         C#\n",
            "8        PHP\n",
            "10       XML\n",
            "dtype: object VB\n"
          ]
        }
      ]
    },
    {
      "cell_type": "code",
      "metadata": {
        "colab": {
          "base_uri": "https://localhost:8080/",
          "height": 435
        },
        "id": "WDSm3l2BGex6",
        "outputId": "c3e7418d-ad08-4628-c2ec-35d1e9637a08"
      },
      "source": [
        "archivo = pd.read_csv(\"/content/Notas2.csv\",sep=\";\",encoding=\"utf-8\")\n",
        "#print(archivo, archivo[\"Notas\"])\n",
        "\n",
        "procesar = pd.crosstab(index=archivo[\"Notas\"],columns=\"cant_veces_repite\")\n",
        "print(procesar)\n",
        "\n",
        "plt.pie(procesar, labels=procesar.index)\n",
        "plt.xlabel(\"Notas por estudiante\")\n",
        "plt.show()"
      ],
      "execution_count": null,
      "outputs": [
        {
          "output_type": "stream",
          "name": "stdout",
          "text": [
            "col_0  cant_veces_repite\n",
            "Notas                   \n",
            "2                      2\n",
            "4                      2\n",
            "7                      1\n",
            "9                      2\n",
            "10                     3\n"
          ]
        },
        {
          "output_type": "stream",
          "name": "stderr",
          "text": [
            "/usr/local/lib/python3.7/dist-packages/ipykernel_launcher.py:7: MatplotlibDeprecationWarning: Non-1D inputs to pie() are currently squeeze()d, but this behavior is deprecated since 3.1 and will be removed in 3.3; pass a 1D array instead.\n",
            "  import sys\n"
          ]
        },
        {
          "output_type": "display_data",
          "data": {
            "image/png": "[encoded data removed]",
            "text/plain": [
              "<Figure size 432x288 with 1 Axes>"
            ]
          },
          "metadata": {}
        }
      ]
    },
    {
      "cell_type": "code",
      "metadata": {
        "colab": {
          "base_uri": "https://localhost:8080/",
          "height": 380
        },
        "id": "mz6g-5m4IjqU",
        "outputId": "9917d941-f10c-4ebc-8b82-d90f0c854f5c"
      },
      "source": [
        "usuario = pd.read_csv(\"/content/usuarios.csv\",sep=\";\",encoding=\"utf-8\")\n",
        "pelicula = pd.read_csv(\"/content/peliculas.csv\",sep=\";\",encoding=\"utf-8\")\n",
        "usuarioPelicula = pd.read_csv(\"/content/UsuariosPeliculas.csv\",sep=\";\",encoding=\"utf-8\")\n",
        "\n",
        "#print(usuario)\n",
        "#print(pelicula)\n",
        "#print(usuarioPelicula)\n",
        "\n",
        "usuarioUserpelicula = pd.merge(pd.merge(usuario, usuarioPelicula), pelicula, on=\"idPelicula\")\n",
        "print(usuarioUserpelicula[\"nombre\"], usuarioUserpelicula[\"titulo\"], usuarioUserpelicula[\"aceptacion\"])\n",
        "print(usuarioUserpelicula)"
      ],
      "execution_count": null,
      "outputs": [
        {
          "output_type": "error",
          "ename": "FileNotFoundError",
          "evalue": "ignored",
          "traceback": [
            "\u001b[0;31m---------------------------------------------------------------------------\u001b[0m",
            "\u001b[0;31mFileNotFoundError\u001b[0m                         Traceback (most recent call last)",
            "\u001b[0;32m<ipython-input-17-d8719be1abe6>\u001b[0m in \u001b[0;36m<module>\u001b[0;34m()\u001b[0m\n\u001b[0;32m----> 1\u001b[0;31m \u001b[0musuario\u001b[0m \u001b[0;34m=\u001b[0m \u001b[0mpd\u001b[0m\u001b[0;34m.\u001b[0m\u001b[0mread_csv\u001b[0m\u001b[0;34m(\u001b[0m\u001b[0;34m\"/content/usuarios.csv\"\u001b[0m\u001b[0;34m,\u001b[0m\u001b[0msep\u001b[0m\u001b[0;34m=\u001b[0m\u001b[0;34m\";\"\u001b[0m\u001b[0;34m,\u001b[0m\u001b[0mencoding\u001b[0m\u001b[0;34m=\u001b[0m\u001b[0;34m\"utf-8\"\u001b[0m\u001b[0;34m)\u001b[0m\u001b[0;34m\u001b[0m\u001b[0;34m\u001b[0m\u001b[0m\n\u001b[0m\u001b[1;32m      2\u001b[0m \u001b[0mpelicula\u001b[0m \u001b[0;34m=\u001b[0m \u001b[0mpd\u001b[0m\u001b[0;34m.\u001b[0m\u001b[0mread_csv\u001b[0m\u001b[0;34m(\u001b[0m\u001b[0;34m\"/content/peliculas.csv\"\u001b[0m\u001b[0;34m,\u001b[0m\u001b[0msep\u001b[0m\u001b[0;34m=\u001b[0m\u001b[0;34m\";\"\u001b[0m\u001b[0;34m,\u001b[0m\u001b[0mencoding\u001b[0m\u001b[0;34m=\u001b[0m\u001b[0;34m\"utf-8\"\u001b[0m\u001b[0;34m)\u001b[0m\u001b[0;34m\u001b[0m\u001b[0;34m\u001b[0m\u001b[0m\n\u001b[1;32m      3\u001b[0m \u001b[0musuarioPelicula\u001b[0m \u001b[0;34m=\u001b[0m \u001b[0mpd\u001b[0m\u001b[0;34m.\u001b[0m\u001b[0mread_csv\u001b[0m\u001b[0;34m(\u001b[0m\u001b[0;34m\"/content/UsuariosPeliculas.csv\"\u001b[0m\u001b[0;34m,\u001b[0m\u001b[0msep\u001b[0m\u001b[0;34m=\u001b[0m\u001b[0;34m\";\"\u001b[0m\u001b[0;34m,\u001b[0m\u001b[0mencoding\u001b[0m\u001b[0;34m=\u001b[0m\u001b[0;34m\"utf-8\"\u001b[0m\u001b[0;34m)\u001b[0m\u001b[0;34m\u001b[0m\u001b[0;34m\u001b[0m\u001b[0m\n\u001b[1;32m      4\u001b[0m \u001b[0;34m\u001b[0m\u001b[0m\n\u001b[1;32m      5\u001b[0m \u001b[0;31m#print(usuario)\u001b[0m\u001b[0;34m\u001b[0m\u001b[0;34m\u001b[0m\u001b[0;34m\u001b[0m\u001b[0m\n",
            "\u001b[0;32m/usr/local/lib/python3.7/dist-packages/pandas/io/parsers.py\u001b[0m in \u001b[0;36mread_csv\u001b[0;34m(filepath_or_buffer, sep, delimiter, header, names, index_col, usecols, squeeze, prefix, mangle_dupe_cols, dtype, engine, converters, true_values, false_values, skipinitialspace, skiprows, skipfooter, nrows, na_values, keep_default_na, na_filter, verbose, skip_blank_lines, parse_dates, infer_datetime_format, keep_date_col, date_parser, dayfirst, cache_dates, iterator, chunksize, compression, thousands, decimal, lineterminator, quotechar, quoting, doublequote, escapechar, comment, encoding, dialect, error_bad_lines, warn_bad_lines, delim_whitespace, low_memory, memory_map, float_precision)\u001b[0m\n\u001b[1;32m    686\u001b[0m     )\n\u001b[1;32m    687\u001b[0m \u001b[0;34m\u001b[0m\u001b[0m\n\u001b[0;32m--> 688\u001b[0;31m     \u001b[0;32mreturn\u001b[0m \u001b[0m_read\u001b[0m\u001b[0;34m(\u001b[0m\u001b[0mfilepath_or_buffer\u001b[0m\u001b[0;34m,\u001b[0m \u001b[0mkwds\u001b[0m\u001b[0;34m)\u001b[0m\u001b[0;34m\u001b[0m\u001b[0;34m\u001b[0m\u001b[0m\n\u001b[0m\u001b[1;32m    689\u001b[0m \u001b[0;34m\u001b[0m\u001b[0m\n\u001b[1;32m    690\u001b[0m \u001b[0;34m\u001b[0m\u001b[0m\n",
            "\u001b[0;32m/usr/local/lib/python3.7/dist-packages/pandas/io/parsers.py\u001b[0m in \u001b[0;36m_read\u001b[0;34m(filepath_or_buffer, kwds)\u001b[0m\n\u001b[1;32m    452\u001b[0m \u001b[0;34m\u001b[0m\u001b[0m\n\u001b[1;32m    453\u001b[0m     \u001b[0;31m# Create the parser.\u001b[0m\u001b[0;34m\u001b[0m\u001b[0;34m\u001b[0m\u001b[0;34m\u001b[0m\u001b[0m\n\u001b[0;32m--> 454\u001b[0;31m     \u001b[0mparser\u001b[0m \u001b[0;34m=\u001b[0m \u001b[0mTextFileReader\u001b[0m\u001b[0;34m(\u001b[0m\u001b[0mfp_or_buf\u001b[0m\u001b[0;34m,\u001b[0m \u001b[0;34m**\u001b[0m\u001b[0mkwds\u001b[0m\u001b[0;34m)\u001b[0m\u001b[0;34m\u001b[0m\u001b[0;34m\u001b[0m\u001b[0m\n\u001b[0m\u001b[1;32m    455\u001b[0m \u001b[0;34m\u001b[0m\u001b[0m\n\u001b[1;32m    456\u001b[0m     \u001b[0;32mif\u001b[0m \u001b[0mchunksize\u001b[0m \u001b[0;32mor\u001b[0m \u001b[0miterator\u001b[0m\u001b[0;34m:\u001b[0m\u001b[0;34m\u001b[0m\u001b[0;34m\u001b[0m\u001b[0m\n",
            "\u001b[0;32m/usr/local/lib/python3.7/dist-packages/pandas/io/parsers.py\u001b[0m in \u001b[0;36m__init__\u001b[0;34m(self, f, engine, **kwds)\u001b[0m\n\u001b[1;32m    946\u001b[0m             \u001b[0mself\u001b[0m\u001b[0;34m.\u001b[0m\u001b[0moptions\u001b[0m\u001b[0;34m[\u001b[0m\u001b[0;34m\"has_index_names\"\u001b[0m\u001b[0;34m]\u001b[0m \u001b[0;34m=\u001b[0m \u001b[0mkwds\u001b[0m\u001b[0;34m[\u001b[0m\u001b[0;34m\"has_index_names\"\u001b[0m\u001b[0;34m]\u001b[0m\u001b[0;34m\u001b[0m\u001b[0;34m\u001b[0m\u001b[0m\n\u001b[1;32m    947\u001b[0m \u001b[0;34m\u001b[0m\u001b[0m\n\u001b[0;32m--> 948\u001b[0;31m         \u001b[0mself\u001b[0m\u001b[0;34m.\u001b[0m\u001b[0m_make_engine\u001b[0m\u001b[0;34m(\u001b[0m\u001b[0mself\u001b[0m\u001b[0;34m.\u001b[0m\u001b[0mengine\u001b[0m\u001b[0;34m)\u001b[0m\u001b[0;34m\u001b[0m\u001b[0;34m\u001b[0m\u001b[0m\n\u001b[0m\u001b[1;32m    949\u001b[0m \u001b[0;34m\u001b[0m\u001b[0m\n\u001b[1;32m    950\u001b[0m     \u001b[0;32mdef\u001b[0m \u001b[0mclose\u001b[0m\u001b[0;34m(\u001b[0m\u001b[0mself\u001b[0m\u001b[0;34m)\u001b[0m\u001b[0;34m:\u001b[0m\u001b[0;34m\u001b[0m\u001b[0;34m\u001b[0m\u001b[0m\n",
            "\u001b[0;32m/usr/local/lib/python3.7/dist-packages/pandas/io/parsers.py\u001b[0m in \u001b[0;36m_make_engine\u001b[0;34m(self, engine)\u001b[0m\n\u001b[1;32m   1178\u001b[0m     \u001b[0;32mdef\u001b[0m \u001b[0m_make_engine\u001b[0m\u001b[0;34m(\u001b[0m\u001b[0mself\u001b[0m\u001b[0;34m,\u001b[0m \u001b[0mengine\u001b[0m\u001b[0;34m=\u001b[0m\u001b[0;34m\"c\"\u001b[0m\u001b[0;34m)\u001b[0m\u001b[0;34m:\u001b[0m\u001b[0;34m\u001b[0m\u001b[0;34m\u001b[0m\u001b[0m\n\u001b[1;32m   1179\u001b[0m         \u001b[0;32mif\u001b[0m \u001b[0mengine\u001b[0m \u001b[0;34m==\u001b[0m \u001b[0;34m\"c\"\u001b[0m\u001b[0;34m:\u001b[0m\u001b[0;34m\u001b[0m\u001b[0;34m\u001b[0m\u001b[0m\n\u001b[0;32m-> 1180\u001b[0;31m             \u001b[0mself\u001b[0m\u001b[0;34m.\u001b[0m\u001b[0m_engine\u001b[0m \u001b[0;34m=\u001b[0m \u001b[0mCParserWrapper\u001b[0m\u001b[0;34m(\u001b[0m\u001b[0mself\u001b[0m\u001b[0;34m.\u001b[0m\u001b[0mf\u001b[0m\u001b[0;34m,\u001b[0m \u001b[0;34m**\u001b[0m\u001b[0mself\u001b[0m\u001b[0;34m.\u001b[0m\u001b[0moptions\u001b[0m\u001b[0;34m)\u001b[0m\u001b[0;34m\u001b[0m\u001b[0;34m\u001b[0m\u001b[0m\n\u001b[0m\u001b[1;32m   1181\u001b[0m         \u001b[0;32melse\u001b[0m\u001b[0;34m:\u001b[0m\u001b[0;34m\u001b[0m\u001b[0;34m\u001b[0m\u001b[0m\n\u001b[1;32m   1182\u001b[0m             \u001b[0;32mif\u001b[0m \u001b[0mengine\u001b[0m \u001b[0;34m==\u001b[0m \u001b[0;34m\"python\"\u001b[0m\u001b[0;34m:\u001b[0m\u001b[0;34m\u001b[0m\u001b[0;34m\u001b[0m\u001b[0m\n",
            "\u001b[0;32m/usr/local/lib/python3.7/dist-packages/pandas/io/parsers.py\u001b[0m in \u001b[0;36m__init__\u001b[0;34m(self, src, **kwds)\u001b[0m\n\u001b[1;32m   1991\u001b[0m         \u001b[0;32mif\u001b[0m \u001b[0mkwds\u001b[0m\u001b[0;34m.\u001b[0m\u001b[0mget\u001b[0m\u001b[0;34m(\u001b[0m\u001b[0;34m\"compression\"\u001b[0m\u001b[0;34m)\u001b[0m \u001b[0;32mis\u001b[0m \u001b[0;32mNone\u001b[0m \u001b[0;32mand\u001b[0m \u001b[0mencoding\u001b[0m\u001b[0;34m:\u001b[0m\u001b[0;34m\u001b[0m\u001b[0;34m\u001b[0m\u001b[0m\n\u001b[1;32m   1992\u001b[0m             \u001b[0;32mif\u001b[0m \u001b[0misinstance\u001b[0m\u001b[0;34m(\u001b[0m\u001b[0msrc\u001b[0m\u001b[0;34m,\u001b[0m \u001b[0mstr\u001b[0m\u001b[0;34m)\u001b[0m\u001b[0;34m:\u001b[0m\u001b[0;34m\u001b[0m\u001b[0;34m\u001b[0m\u001b[0m\n\u001b[0;32m-> 1993\u001b[0;31m                 \u001b[0msrc\u001b[0m \u001b[0;34m=\u001b[0m \u001b[0mopen\u001b[0m\u001b[0;34m(\u001b[0m\u001b[0msrc\u001b[0m\u001b[0;34m,\u001b[0m \u001b[0;34m\"rb\"\u001b[0m\u001b[0;34m)\u001b[0m\u001b[0;34m\u001b[0m\u001b[0;34m\u001b[0m\u001b[0m\n\u001b[0m\u001b[1;32m   1994\u001b[0m                 \u001b[0mself\u001b[0m\u001b[0;34m.\u001b[0m\u001b[0mhandles\u001b[0m\u001b[0;34m.\u001b[0m\u001b[0mappend\u001b[0m\u001b[0;34m(\u001b[0m\u001b[0msrc\u001b[0m\u001b[0;34m)\u001b[0m\u001b[0;34m\u001b[0m\u001b[0;34m\u001b[0m\u001b[0m\n\u001b[1;32m   1995\u001b[0m \u001b[0;34m\u001b[0m\u001b[0m\n",
            "\u001b[0;31mFileNotFoundError\u001b[0m: [Errno 2] No such file or directory: '/content/usuarios.csv'"
          ]
        }
      ]
    },
    {
      "cell_type": "code",
      "metadata": {
        "colab": {
          "base_uri": "https://localhost:8080/"
        },
        "id": "83qulxmAEDm_",
        "outputId": "94daa910-0ac6-4169-afe4-bc173ab2a1bd"
      },
      "source": [
        "#Generador de contraseñas:\n",
        "import random\n",
        "lower = \"abcdfghijklmnopqrstuvwxyz\"\n",
        "upper = \"ABCDFGHIJKLMNOPQRSTUVWXYZ\"\n",
        "numbers = \"0123456789\"\n",
        "symbols = \"_.[]{}/*-+;:,.!#$%&=()?¡'¿\"\n",
        "\n",
        "all = lower + upper + numbers + symbols\n",
        "lenght = 20\n",
        "password = \"\".join(random.sample(all,lenght))\n",
        "print(\"Contraseña generada: \",password)"
      ],
      "execution_count": null,
      "outputs": [
        {
          "output_type": "stream",
          "name": "stdout",
          "text": [
            "Contraseña generada:  xQ1!ZBaK:b4Aj]O?mqFH\n"
          ]
        }
      ]
    },
    {
      "cell_type": "code",
      "metadata": {
        "colab": {
          "base_uri": "https://localhost:8080/"
        },
        "id": "01OgIaO3DJsv",
        "outputId": "77d6b3b7-87cb-477a-f3d0-f3bd2eb544c0"
      },
      "source": [
        "#Uso de tenseroflow\n",
        "\n",
        "import tensorflow as tf\n",
        "resp = tf.add(5,7).numpy()\n",
        "print(resp)"
      ],
      "execution_count": null,
      "outputs": [
        {
          "output_type": "stream",
          "name": "stdout",
          "text": [
            "12\n"
          ]
        }
      ]
    },
    {
      "cell_type": "code",
      "metadata": {
        "id": "XAlGcdtwI9Mu"
      },
      "source": [
        "#Entrenando una IA:\n",
        "  #Importando librerias\n",
        "\n",
        "import tensorflow as tf\n",
        "import pandas as pd\n",
        "import matplotlib.pyplot as plt\n",
        "import seaborn as sns"
      ],
      "execution_count": null,
      "outputs": []
    },
    {
      "cell_type": "code",
      "metadata": {
        "colab": {
          "base_uri": "https://localhost:8080/",
          "height": 872
        },
        "id": "wmzz2XHBJXV1",
        "outputId": "ea3071a6-000a-44e6-ba1d-135b03036788"
      },
      "source": [
        "#Entrenando una IA:\n",
        "  #Obteniendo datos\n",
        "temperaturas = pd.read_csv(\"/content/datos.csv\",sep=\";\")\n",
        "print(temperaturas)\n",
        "\n",
        "sns.scatterplot(temperaturas[\"celsius\"], temperaturas[\"farenheit\"])\n",
        "plt.show()"
      ],
      "execution_count": null,
      "outputs": [
        {
          "output_type": "stream",
          "name": "stdout",
          "text": [
            "    celsius  farenheit\n",
            "0       -40      -40.0\n",
            "1       -35      -31.0\n",
            "2       -30      -22.0\n",
            "3       -25      -13.0\n",
            "4       -20       -4.0\n",
            "5       -15        5.0\n",
            "6       -10       14.0\n",
            "7        -5       23.0\n",
            "8         0       32.0\n",
            "9         5       41.0\n",
            "10       10       50.0\n",
            "11       15       59.0\n",
            "12       20       68.0\n",
            "13       25       77.0\n",
            "14       30       86.0\n",
            "15       35       95.0\n",
            "16       36       96.8\n",
            "17       37       98.6\n",
            "18       38      100.4\n",
            "19       39      102.2\n",
            "20       40      104.0\n",
            "21       45      113.0\n",
            "22       50      122.0\n",
            "23       55      131.0\n",
            "24       60      140.0\n",
            "25       65      149.0\n",
            "26       70      158.0\n",
            "27       75      167.0\n",
            "28       80      176.0\n",
            "29       85      185.0\n"
          ]
        },
        {
          "output_type": "stream",
          "name": "stderr",
          "text": [
            "/usr/local/lib/python3.7/dist-packages/seaborn/_decorators.py:43: FutureWarning: Pass the following variables as keyword args: x, y. From version 0.12, the only valid positional argument will be `data`, and passing other arguments without an explicit keyword will result in an error or misinterpretation.\n",
            "  FutureWarning\n"
          ]
        },
        {
          "output_type": "display_data",
          "data": {
            "image/png": "[encoded data removed]",
            "text/plain": [
              "<Figure size 432x288 with 1 Axes>"
            ]
          },
          "metadata": {
            "needs_background": "light"
          }
        }
      ]
    },
    {
      "cell_type": "code",
      "metadata": {
        "id": "2L7_Juy4LX8F"
      },
      "source": [
        "#Entrenando una IA:\n",
        "  #Datos de entrenamiento\n",
        "celsius = temperaturas[\"celsius\"]\n",
        "farenheit = temperaturas[\"farenheit\"]"
      ],
      "execution_count": null,
      "outputs": []
    },
    {
      "cell_type": "code",
      "metadata": {
        "id": "UGE3HVdpLzQk"
      },
      "source": [
        "#Entrenando una IA:\n",
        "  #Modelo de entrenamiento:\n",
        "\n",
        "modelo = tf.keras.Sequential()\n",
        "modelo.add(tf.keras.layers.Dense(units=1, input_shape=[1]))"
      ],
      "execution_count": null,
      "outputs": []
    },
    {
      "cell_type": "code",
      "metadata": {
        "id": "nXaOX2SXOtm1"
      },
      "source": [
        "#Entrenando una IA:\n",
        "  #Compilar modelo:\n",
        "modelo.compile(optimizer=tf.keras.optimizers.Adam(1), loss='mean_squared_error')"
      ],
      "execution_count": null,
      "outputs": []
    },
    {
      "cell_type": "code",
      "metadata": {
        "id": "YzvwrKUWPMzd"
      },
      "source": [
        "#Entrenando una IA:\n",
        "  #Entrenamiento:\n",
        "historial = modelo.fit(celsius, farenheit, epochs=200, verbose=0)"
      ],
      "execution_count": null,
      "outputs": []
    },
    {
      "cell_type": "code",
      "metadata": {
        "colab": {
          "base_uri": "https://localhost:8080/",
          "height": 295
        },
        "id": "2mVT1yJ3ReHk",
        "outputId": "bb6ecd38-77f1-4db1-a1af-624b2c53526d"
      },
      "source": [
        "#Entrenando una IA:\n",
        "  #Evaluando el modelo\n",
        "plt.plot(historial.history[\"loss\"])\n",
        "plt.title(\"Progreso del aprendizaje\")\n",
        "plt.xlabel(\"vueltas\")\n",
        "plt.ylabel(\"Error de aprendizaje\")\n",
        "plt.legend(\"Aprendizaje automatico\")\n",
        "plt.show()"
      ],
      "execution_count": null,
      "outputs": [
        {
          "output_type": "display_data",
          "data": {
            "image/png": "[encoded data removed]",
            "text/plain": [
              "<Figure size 432x288 with 1 Axes>"
            ]
          },
          "metadata": {
            "needs_background": "light"
          }
        }
      ]
    },
    {
      "cell_type": "code",
      "metadata": {
        "colab": {
          "base_uri": "https://localhost:8080/"
        },
        "id": "XdbuvBt_Pn0d",
        "outputId": "24ff1234-0e56-465d-f2e8-55c75b453762"
      },
      "source": [
        "#Entrenando una IA:\n",
        "  #Prueba\n",
        "f = modelo.predict([27])\n",
        "\n",
        "print(f)"
      ],
      "execution_count": null,
      "outputs": [
        {
          "output_type": "stream",
          "name": "stdout",
          "text": [
            "[[80.28714]]\n"
          ]
        }
      ]
    },
    {
      "cell_type": "code",
      "metadata": {
        "id": "BoWSSmQi1nL5",
        "colab": {
          "base_uri": "https://localhost:8080/",
          "height": 1000
        },
        "outputId": "286e0df8-a05b-49cb-d412-ed90af46566a"
      },
      "source": [
        "#Conversor de Almacenamiento con IA\n",
        "\n",
        "#importar librerias\n",
        "import tensorflow as tf\n",
        "import pandas as pd\n",
        "import matplotlib.pyplot as plt\n",
        "import seaborn as sns\n",
        "\n",
        "#Obteniendo datos\n",
        "Almacenamiento = pd.read_csv(\"/content/almacenamiento.csv\",sep=\";\")\n",
        "print(Almacenamiento)\n",
        "\n",
        "sns.scatterplot(Almacenamiento[\"megabytes\"], Almacenamiento[\"gigabytes\"])\n",
        "plt.show()\n",
        "\n",
        "#Datos de entrenamiento\n",
        "megabytes = Almacenamiento[\"megabytes\"]\n",
        "gigabytes = Almacenamiento[\"gigabytes\"]\n",
        "\n",
        "#Modelo de entrenamiento:\n",
        "modelo = tf.keras.Sequential()\n",
        "modelo.add(tf.keras.layers.Dense(units=1, input_shape=[1]))\n",
        "\n",
        "#Compilar modelo:\n",
        "modelo.compile(optimizer=tf.keras.optimizers.Adam(1), loss='mean_squared_error')\n",
        "\n",
        "#Entrenamiento:\n",
        "historial = modelo.fit(megabytes, gigabytes, epochs=180, verbose=0)\n",
        "\n",
        "#Evaluando el modelo\n",
        "plt.plot(historial.history[\"loss\"])\n",
        "plt.title(\"Progreso del aprendizaje\")\n",
        "plt.xlabel(\"vueltas\")\n",
        "plt.ylabel(\"Error de aprendizaje\")\n",
        "plt.legend(\"Aprendizaje automatico\")\n",
        "plt.show()"
      ],
      "execution_count": null,
      "outputs": [
        {
          "output_type": "stream",
          "name": "stdout",
          "text": [
            "    megabytes  gigabytes\n",
            "0           1   0.000977\n",
            "1           2   0.001953\n",
            "2           3   0.002930\n",
            "3           4   0.003906\n",
            "4           5   0.004883\n",
            "5          10   0.009766\n",
            "6          15   0.014648\n",
            "7          20   0.019531\n",
            "8          25   0.024414\n",
            "9          30   0.029297\n",
            "10         35   0.034180\n",
            "11         40   0.039063\n",
            "12         45   0.043945\n",
            "13         50   0.048828\n",
            "14         55   0.053711\n",
            "15         60   0.058594\n",
            "16         65   0.063477\n",
            "17         70   0.068359\n",
            "18         75   0.073242\n",
            "19         80   0.078125\n",
            "20         85   0.083008\n",
            "21         90   0.087891\n",
            "22         95   0.092773\n",
            "23        100   0.097656\n",
            "24        150   0.146484\n",
            "25        200   0.195313\n",
            "26        250   0.244141\n",
            "27        300   0.292969\n",
            "28        350   0.341797\n",
            "29        400   0.390625\n",
            "30        450   0.439453\n",
            "31        500   0.488281\n",
            "32        550   0.537109\n",
            "33        600   0.585938\n",
            "34        650   0.634766\n",
            "35        700   0.683594\n",
            "36        750   0.732422\n",
            "37        800   0.781250\n",
            "38        850   0.830078\n",
            "39        900   0.878906\n",
            "40        950   0.927734\n",
            "41       1000   0.976563\n",
            "42       1024   1.000000\n",
            "43       1500   1.464800\n",
            "44       2000   1.953100\n",
            "45       2500   2.441400\n",
            "46       3000   2.929700\n",
            "47       3500   9.418000\n",
            "48       4000   3.906300\n",
            "49       5120   5.000000\n",
            "50      10240  10.000000\n",
            "51      20480  20.000000\n",
            "52      25600  25.000000\n",
            "53      30720  30.000000\n",
            "54      35840  35.000000\n",
            "55      40960  40.000000\n",
            "56      46080  45.000000\n",
            "57      51200  50.000000\n"
          ]
        },
        {
          "output_type": "stream",
          "name": "stderr",
          "text": [
            "/usr/local/lib/python3.7/dist-packages/seaborn/_decorators.py:43: FutureWarning: Pass the following variables as keyword args: x, y. From version 0.12, the only valid positional argument will be `data`, and passing other arguments without an explicit keyword will result in an error or misinterpretation.\n",
            "  FutureWarning\n"
          ]
        },
        {
          "output_type": "display_data",
          "data": {
            "image/png": "[encoded data removed]",
            "text/plain": [
              "<Figure size 432x288 with 1 Axes>"
            ]
          },
          "metadata": {
            "needs_background": "light"
          }
        },
        {
          "output_type": "display_data",
          "data": {
            "image/png": "[encoded data removed]",
            "text/plain": [
              "<Figure size 432x288 with 1 Axes>"
            ]
          },
          "metadata": {
            "needs_background": "light"
          }
        }
      ]
    },
    {
      "cell_type": "code",
      "metadata": {
        "colab": {
          "base_uri": "https://localhost:8080/"
        },
        "id": "Oc2pCVoH0s6o",
        "outputId": "265c4980-a529-4389-acdf-71f4e3f1279c"
      },
      "source": [
        "#Prueba\n",
        "f = modelo.predict([256000])\n",
        "\n",
        "print(f)"
      ],
      "execution_count": null,
      "outputs": [
        {
          "output_type": "stream",
          "name": "stdout",
          "text": [
            "[[248.25824]]\n"
          ]
        }
      ]
    },
    {
      "cell_type": "code",
      "metadata": {
        "colab": {
          "base_uri": "https://localhost:8080/",
          "height": 1000
        },
        "id": "IsXwyPgrKPWG",
        "outputId": "1c7f1213-2b5f-4475-ec7b-6b53e7dd250f"
      },
      "source": [
        "#Conversor de Area con IA\n",
        "\n",
        "#importar librerias\n",
        "import tensorflow as tf\n",
        "import pandas as pd\n",
        "import matplotlib.pyplot as plt\n",
        "import seaborn as sns\n",
        "\n",
        "#Obteniendo datos\n",
        "area = pd.read_csv(\"/content/area.csv\",sep=\";\")\n",
        "print(area)\n",
        "\n",
        "sns.scatterplot(area[\"kilometro cuadrado\"], area[\"milla cuadrada\"])\n",
        "plt.show()\n",
        "\n",
        "#Datos de entrenamiento\n",
        "kilometros = area[\"kilometro cuadrado\"]\n",
        "millas = area[\"milla cuadrada\"]\n",
        "\n",
        "#Modelo de entrenamiento:\n",
        "modelo = tf.keras.Sequential()\n",
        "modelo.add(tf.keras.layers.Dense(units=1, input_shape=[1]))\n",
        "\n",
        "#Compilar modelo:\n",
        "modelo.compile(optimizer=tf.keras.optimizers.Adam(1), loss='mean_squared_error')\n",
        "\n",
        "#Entrenamiento:\n",
        "historial = modelo.fit(kilometros, millas, epochs=180, verbose=0)\n",
        "\n",
        "#Evaluando el modelo\n",
        "plt.plot(historial.history[\"loss\"])\n",
        "plt.title(\"Progreso del aprendizaje\")\n",
        "plt.xlabel(\"vueltas\")\n",
        "plt.ylabel(\"Error de aprendizaje\")\n",
        "plt.legend(\"Aprendizaje automatico\")\n",
        "plt.show()"
      ],
      "execution_count": null,
      "outputs": [
        {
          "output_type": "stream",
          "name": "stdout",
          "text": [
            "    kilometro cuadrado  milla cuadrada\n",
            "0                    1        0.386102\n",
            "1                    2        0.772204\n",
            "2                    3        1.158310\n",
            "3                    4        1.544410\n",
            "4                    5        1.930510\n",
            "5                   10        3.861020\n",
            "6                   15        5.791530\n",
            "7                   20        7.722040\n",
            "8                   25        9.652550\n",
            "9                   30       11.583100\n",
            "10                  35       13.513600\n",
            "11                  40       15.444100\n",
            "12                  45       17.374600\n",
            "13                  50       19.305100\n",
            "14                  55       21.235600\n",
            "15                  60       23.166100\n",
            "16                  65       25.096600\n",
            "17                  70       27.027200\n",
            "18                  75       28.957700\n",
            "19                  80       30.888200\n",
            "20                  85       32.818700\n",
            "21                  90       34.749200\n",
            "22                  95       36.679700\n",
            "23                 100       38.610200\n",
            "24                 150       57.915300\n",
            "25                 200       77.220400\n",
            "26                 250       96.525500\n",
            "27                 300      115.831000\n",
            "28                 350      135.136000\n",
            "29                 400      154.441000\n",
            "30                 450      173.746000\n",
            "31                 500      193.051000\n",
            "32                 550      212.356000\n",
            "33                 600      231.661000\n",
            "34                 650      250.966000\n",
            "35                 700      270.272000\n",
            "36                 750      289.577000\n",
            "37                 800      308.882000\n",
            "38                 850      328.187000\n",
            "39                 900      347.492000\n",
            "40                 950      366.797000\n",
            "41                1000      386.102000\n"
          ]
        },
        {
          "output_type": "stream",
          "name": "stderr",
          "text": [
            "/usr/local/lib/python3.7/dist-packages/seaborn/_decorators.py:43: FutureWarning: Pass the following variables as keyword args: x, y. From version 0.12, the only valid positional argument will be `data`, and passing other arguments without an explicit keyword will result in an error or misinterpretation.\n",
            "  FutureWarning\n"
          ]
        },
        {
          "output_type": "display_data",
          "data": {
            "image/png": "[encoded data removed]",
            "text/plain": [
              "<Figure size 432x288 with 1 Axes>"
            ]
          },
          "metadata": {
            "needs_background": "light"
          }
        },
        {
          "output_type": "display_data",
          "data": {
            "image/png": "[encoded data removed]",
            "text/plain": [
              "<Figure size 432x288 with 1 Axes>"
            ]
          },
          "metadata": {
            "needs_background": "light"
          }
        }
      ]
    },
    {
      "cell_type": "code",
      "metadata": {
        "colab": {
          "base_uri": "https://localhost:8080/"
        },
        "id": "T2b6N_B6MMq2",
        "outputId": "60950d40-41a5-4d84-abad-2954efebc3b4"
      },
      "source": [
        "#Prueba\n",
        "y = modelo.predict([5298])\n",
        "\n",
        "print(\"La longitud en kilometros es: \", y)"
      ],
      "execution_count": null,
      "outputs": [
        {
          "output_type": "stream",
          "name": "stdout",
          "text": [
            "La longitud en kilometros es:  [[2045.5269]]\n"
          ]
        }
      ]
    },
    {
      "cell_type": "markdown",
      "metadata": {
        "id": "8EdKNznAIihA"
      },
      "source": [
        "# #Entrenar una red neuronal con tensorflow para leer numeros"
      ]
    },
    {
      "cell_type": "code",
      "metadata": {
        "id": "2_CJkikRITuw"
      },
      "source": [
        "###Importar librerias\n",
        "import tensorflow as tf\n",
        "import tensorflow_datasets as tfds\n",
        "import math\n",
        "import numpy as np\n",
        "import matplotlib.pyplot as plt"
      ],
      "execution_count": null,
      "outputs": []
    },
    {
      "cell_type": "code",
      "metadata": {
        "id": "c1ITHjODJMSf",
        "colab": {
          "base_uri": "https://localhost:8080/",
          "height": 188,
          "referenced_widgets": [
            "67c03d2c52b34d4aaa6f5f76ee90adf3"
          ]
        },
        "outputId": "1c10be2d-41c8-4099-ab55-ba34be313a5c"
      },
      "source": [
        "#cargamos los num del 0 al 9 del dataset\n",
        "dataset, metadata = tfds.load(\"mnist\", as_supervised=True, with_info=True)\n",
        "datos_entrenamiento, datos_prueba = dataset[\"train\"], dataset[\"test\"]"
      ],
      "execution_count": null,
      "outputs": [
        {
          "output_type": "stream",
          "name": "stdout",
          "text": [
            "\u001b[1mDownloading and preparing dataset mnist/3.0.1 (download: 11.06 MiB, generated: 21.00 MiB, total: 32.06 MiB) to /root/tensorflow_datasets/mnist/3.0.1...\u001b[0m\n"
          ]
        },
        {
          "output_type": "stream",
          "name": "stderr",
          "text": [
            "WARNING:absl:Dataset mnist is hosted on GCS. It will automatically be downloaded to your\n",
            "local data directory. If you'd instead prefer to read directly from our public\n",
            "GCS bucket (recommended if you're running on GCP), you can instead pass\n",
            "`try_gcs=True` to `tfds.load` or set `data_dir=gs://tfds-data/datasets`.\n",
            "\n"
          ]
        },
        {
          "output_type": "display_data",
          "data": {
            "application/vnd.jupyter.widget-view+json": {
              "model_id": "67c03d2c52b34d4aaa6f5f76ee90adf3",
              "version_minor": 0,
              "version_major": 2
            },
            "text/plain": [
              "Dl Completed...:   0%|          | 0/4 [00:00<?, ? file/s]"
            ]
          },
          "metadata": {}
        },
        {
          "output_type": "stream",
          "name": "stdout",
          "text": [
            "\n",
            "\u001b[1mDataset mnist downloaded and prepared to /root/tensorflow_datasets/mnist/3.0.1. Subsequent calls will reuse this data.\u001b[0m\n"
          ]
        }
      ]
    },
    {
      "cell_type": "code",
      "metadata": {
        "colab": {
          "base_uri": "https://localhost:8080/"
        },
        "id": "ueMvE9CYKHYP",
        "outputId": "fb109006-9b25-4fa0-f3bd-2e3181459214"
      },
      "source": [
        "#Etiquetas\n",
        "numeros_letras = [\"Cero\", \"Uno\", \"Dos\", \"Tres\", \"Cuatro\", \"Cinco\", \"Seis\", \"Siete\", \"Ocho\", \"Nueve\"]\n",
        "\n",
        "#Pasamos los datos en las variables de ejemplo de entrenamiento y prueba.\n",
        "Num_ejem_entrenamiento = metadata.splits[\"train\"].num_examples\n",
        "Num_ejem_prueba = metadata.splits[\"test\"].num_examples\n",
        "\n",
        "print(Num_ejem_entrenamiento, Num_ejem_prueba)\n"
      ],
      "execution_count": null,
      "outputs": [
        {
          "output_type": "stream",
          "name": "stdout",
          "text": [
            "60000 10000\n"
          ]
        }
      ]
    },
    {
      "cell_type": "code",
      "metadata": {
        "id": "xpO_v5WcLdy_"
      },
      "source": [
        "#De numeros (pixeles de 0 a 255) a binario\n",
        "def normalizacion(images, labels):\n",
        "  images = tf.cast(images, tf.float32)\n",
        "  images /= 255\n",
        "  return images, labels"
      ],
      "execution_count": null,
      "outputs": []
    },
    {
      "cell_type": "code",
      "metadata": {
        "id": "yUEbtS3jMNQo"
      },
      "source": [
        "#llamado de imagenes normalizadas\n",
        "datos_entrenamiento = datos_entrenamiento.map(normalizacion)\n",
        "datos_prueba = datos_prueba.map(normalizacion)"
      ],
      "execution_count": null,
      "outputs": []
    },
    {
      "cell_type": "code",
      "metadata": {
        "id": "ZCfuuuYjMfuI"
      },
      "source": [
        "#Estructura neuronal\n",
        "modelo = tf.keras.Sequential([\n",
        "  tf.keras.layers.Flatten(input_shape=(28,28,1)), #28*28=784 neuronas una para cada pixel\n",
        "  tf.keras.layers.Dense(64, activation=tf.nn.relu),\n",
        "  tf.keras.layers.Dense(64, activation=tf.nn.relu),\n",
        "  tf.keras.layers.Dense(10, activation=tf.nn.softmax) #10 neuronas para cada num\n",
        "])"
      ],
      "execution_count": null,
      "outputs": []
    },
    {
      "cell_type": "code",
      "metadata": {
        "id": "2rZmEL_QOq9D"
      },
      "source": [
        "#Compilar modelo\n",
        "modelo.compile(optimizer=\"adam\", loss=\"sparse_categorical_crossentropy\", metrics=[\"accuracy\"])"
      ],
      "execution_count": null,
      "outputs": []
    },
    {
      "cell_type": "code",
      "metadata": {
        "id": "RENEldU1PGLB"
      },
      "source": [
        "#Entrenamiento por lote\n",
        "batchsize = 32\n",
        "datos_entrenamiento = datos_entrenamiento.repeat().shuffle(Num_ejem_entrenamiento).batch(batchsize) #ordena de forma aleatroria\n",
        "datos_prueba = datos_prueba.batch(batchsize)"
      ],
      "execution_count": null,
      "outputs": []
    },
    {
      "cell_type": "code",
      "metadata": {
        "colab": {
          "base_uri": "https://localhost:8080/"
        },
        "id": "9lWkFFieRAGS",
        "outputId": "db6366ad-87d3-49c2-c7a1-a5ea1763beae"
      },
      "source": [
        "#Entrnamiento\n",
        "modelo.fit(datos_entrenamiento, epochs=5, steps_per_epoch=math.ceil(Num_ejem_entrenamiento/batchsize))"
      ],
      "execution_count": null,
      "outputs": [
        {
          "output_type": "stream",
          "name": "stdout",
          "text": [
            "Epoch 1/5\n",
            "1875/1875 [==============================] - 12s 3ms/step - loss: 0.2694 - accuracy: 0.9225\n",
            "Epoch 2/5\n",
            "1875/1875 [==============================] - 5s 3ms/step - loss: 0.1203 - accuracy: 0.9642\n",
            "Epoch 3/5\n",
            "1875/1875 [==============================] - 5s 3ms/step - loss: 0.0899 - accuracy: 0.9726\n",
            "Epoch 4/5\n",
            "1875/1875 [==============================] - 5s 3ms/step - loss: 0.0673 - accuracy: 0.9790\n",
            "Epoch 5/5\n",
            "1875/1875 [==============================] - 5s 3ms/step - loss: 0.0562 - accuracy: 0.9824\n"
          ]
        },
        {
          "output_type": "execute_result",
          "data": {
            "text/plain": [
              "<keras.callbacks.History at 0x7f3c5af01350>"
            ]
          },
          "metadata": {},
          "execution_count": 9
        }
      ]
    },
    {
      "cell_type": "code",
      "metadata": {
        "colab": {
          "base_uri": "https://localhost:8080/"
        },
        "id": "t9bWSxyVrbTe",
        "outputId": "4e60a9ba-0c3e-4a14-c2ed-6e8e161941ff"
      },
      "source": [
        "#Evaluar modelo con los datos de prueba\n",
        "test_loss, test_accuracy = modelo.evaluate(datos_prueba, steps=math.ceil(Num_ejem_prueba/batchsize))\n",
        "print(test_loss*100, test_accuracy*100)"
      ],
      "execution_count": null,
      "outputs": [
        {
          "output_type": "stream",
          "name": "stdout",
          "text": [
            "313/313 [==============================] - 2s 4ms/step - loss: 0.0923 - accuracy: 0.9726\n",
            "9.233199059963226 97.2599983215332\n"
          ]
        }
      ]
    },
    {
      "cell_type": "code",
      "metadata": {
        "id": "XHt8AAOTvojG"
      },
      "source": [
        "#Graficar salida\n",
        "def graficar_imagenes(i, predictions_array, true_labels, images):\n",
        "  predictions_array, true_labels, img = predictions_array[i], true_labels[i], images[i]\n",
        "  plt.grid(False)\n",
        "  plt.xticks([])\n",
        "  plt.yticks([])\n",
        "  plt.imshow(img[...,0], cmap=plt.cm.binary)\n",
        "\n",
        "  predicted_label = np.argmax(predictions_array)\n",
        "  if predicted_label == true_labels:\n",
        "    color = \"green\"\n",
        "  else:\n",
        "    color = \"red\"\n",
        "  plt.xlabel(\"Prediccion: {}\".format(numeros_letras[predicted_label], color=color))"
      ],
      "execution_count": null,
      "outputs": []
    },
    {
      "cell_type": "code",
      "metadata": {
        "id": "EWNhL-qbywRX"
      },
      "source": [
        "#Convertir imagenes en matriices\n",
        "for imagenes_prueba, etiquetas_prueba, in datos_prueba.take(1):\n",
        "  imagenes_prueba = imagenes_prueba.numpy()\n",
        "  etiquetas_prueba = etiquetas_prueba.numpy()\n",
        "  Predicciones = modelo.predict(imagenes_prueba)"
      ],
      "execution_count": null,
      "outputs": []
    },
    {
      "cell_type": "code",
      "metadata": {
        "id": "LG0Wskd2yeaR"
      },
      "source": [
        "#Graficamos matrices\n",
        "def graficar_valores_matrices(i, predictions_array, true_label):\n",
        "  predictions_array, true_label = predictions_array[i], true_label[i]\n",
        "  plt.grid(False)\n",
        "  plt.xticks([])\n",
        "  plt.yticks([])\n",
        "  thisplot = plt.bar(range(10), predictions_array, color=\"#e63946\")\n",
        "  plt.ylim([0,1])\n",
        "  predicted_label = np.argmax(predictions_array)\n",
        "\n",
        "  thisplot[predicted_label].set_color(\"red\")\n",
        "  thisplot[true_label].set_color(\"#03045e\")"
      ],
      "execution_count": null,
      "outputs": []
    },
    {
      "cell_type": "code",
      "metadata": {
        "colab": {
          "base_uri": "https://localhost:8080/",
          "height": 371
        },
        "id": "VfYaFv-Y2AIS",
        "outputId": "956824b5-db43-428c-9058-6c1a3c8c765a"
      },
      "source": [
        "#Metodo para graficar\n",
        "numfilas = 3\n",
        "numcolum = 3\n",
        "numimages = numfilas*numcolum\n",
        "\n",
        "plt.figure(figsize=(2*2*numcolum, 2*numfilas))\n",
        "for i in range(numimages):\n",
        "  plt.subplot(numfilas, 2*numcolum, 2*i+1)\n",
        "  graficar_imagenes(i, Predicciones, etiquetas_prueba, imagenes_prueba)\n",
        "  plt.subplot(numfilas, 2*numcolum, 2*i+2)\n",
        "  graficar_valores_matrices(i, Predicciones, etiquetas_prueba)\n",
        "\n",
        "plt.show()\n"
      ],
      "execution_count": null,
      "outputs": [
        {
          "output_type": "display_data",
          "data": {
            "image/png": "[encoded data removed]",
            "text/plain": [
              "<Figure size 864x432 with 18 Axes>"
            ]
          },
          "metadata": {}
        }
      ]
    },
    {
      "cell_type": "markdown",
      "metadata": {
        "id": "Z_he_LKWrrcc"
      },
      "source": [
        "## Tarea de progra con ia para ropa"
      ]
    },
    {
      "cell_type": "code",
      "metadata": {
        "colab": {
          "base_uri": "https://localhost:8080/"
        },
        "id": "GTwI2O0br0LT",
        "outputId": "3597e432-d9ba-4c22-c491-8dffa6b6fa55"
      },
      "source": [
        "#Importar librerias\n",
        "import tensorflow as tf\n",
        "import tensorflow_datasets as tfds\n",
        "import math\n",
        "import numpy as np\n",
        "import matplotlib.pyplot as plt\n",
        "\n",
        "#cargamos los num del 0 al 9 del dataset\n",
        "dataset, metadata = tfds.load(\"fashion_mnist\", as_supervised=True, with_info=True)\n",
        "datos_entrenamiento, datos_prueba = dataset[\"train\"], dataset[\"test\"]\n",
        "\n",
        "#Etiquetas\n",
        "letras = [\"Ankle boot\", \"Bag\", \"Coat\", \"Dress\", \"Pullover\", \"Sandal\", \"Shirt\", \"Sneaker\", \"T-shirt/top\", \"Trouser\"]\n",
        "\n",
        "#Pasamos los datos en las variables de ejemplo de entrenamiento y prueba.\n",
        "Num_ejem_entrenamiento = metadata.splits[\"train\"].num_examples\n",
        "Num_ejem_prueba = metadata.splits[\"test\"].num_examples\n",
        "\n",
        "print(Num_ejem_entrenamiento, Num_ejem_prueba)\n",
        "\n",
        "#De numeros (pixeles de 0 a 255) a binario\n",
        "def normalizacion(images, labels):\n",
        "  images = tf.cast(images, tf.float32)\n",
        "  images /= 255\n",
        "  return images, labels\n",
        "\n",
        "  #llamado de imagenes normalizadas\n",
        "datos_entrenamiento = datos_entrenamiento.map(normalizacion)\n",
        "datos_prueba = datos_prueba.map(normalizacion)\n",
        "\n",
        "#Estructura neuronal\n",
        "modelo = tf.keras.Sequential([\n",
        "  tf.keras.layers.Flatten(input_shape=(28,28,1)), #28*28=784 neuronas una para cada pixel\n",
        "  tf.keras.layers.Dense(64, activation=tf.nn.relu),\n",
        "  tf.keras.layers.Dense(64, activation=tf.nn.relu),\n",
        "  tf.keras.layers.Dense(10, activation=tf.nn.softmax) #10 neuronas para cada num\n",
        "])\n",
        "\n",
        "#Compilar modelo\n",
        "modelo.compile(optimizer=\"adam\", loss=\"sparse_categorical_crossentropy\", metrics=[\"accuracy\"])\n",
        "\n",
        "#Entrenamiento por lote\n",
        "batchsize = 32\n",
        "datos_entrenamiento = datos_entrenamiento.repeat().shuffle(Num_ejem_entrenamiento).batch(batchsize) #ordena de forma aleatroria\n",
        "datos_prueba = datos_prueba.batch(batchsize)"
      ],
      "execution_count": 3,
      "outputs": [
        {
          "output_type": "stream",
          "name": "stdout",
          "text": [
            "60000 10000\n"
          ]
        }
      ]
    },
    {
      "cell_type": "code",
      "metadata": {
        "colab": {
          "base_uri": "https://localhost:8080/"
        },
        "id": "JVCZIlVHzL0m",
        "outputId": "7e038244-4304-4f61-923a-e15ba107ddfb"
      },
      "source": [
        "#Entrnamiento\n",
        "modelo.fit(datos_entrenamiento, epochs=5, steps_per_epoch=math.ceil(Num_ejem_entrenamiento/batchsize))"
      ],
      "execution_count": 4,
      "outputs": [
        {
          "output_type": "stream",
          "name": "stdout",
          "text": [
            "Epoch 1/5\n",
            "1875/1875 [==============================] - 12s 3ms/step - loss: 0.5040 - accuracy: 0.8210\n",
            "Epoch 2/5\n",
            "1875/1875 [==============================] - 6s 3ms/step - loss: 0.3777 - accuracy: 0.8627\n",
            "Epoch 3/5\n",
            "1875/1875 [==============================] - 6s 3ms/step - loss: 0.3408 - accuracy: 0.8752\n",
            "Epoch 4/5\n",
            "1875/1875 [==============================] - 5s 3ms/step - loss: 0.3209 - accuracy: 0.8814\n",
            "Epoch 5/5\n",
            "1875/1875 [==============================] - 5s 3ms/step - loss: 0.3022 - accuracy: 0.8885\n"
          ]
        },
        {
          "output_type": "execute_result",
          "data": {
            "text/plain": [
              "<keras.callbacks.History at 0x7f18a5fa6e10>"
            ]
          },
          "metadata": {},
          "execution_count": 4
        }
      ]
    },
    {
      "cell_type": "code",
      "metadata": {
        "colab": {
          "base_uri": "https://localhost:8080/",
          "height": 405
        },
        "id": "Y5sIuK_OyKol",
        "outputId": "8ec1526b-c7bd-4301-9fd1-e1f1cd0bc8cf"
      },
      "source": [
        "#Evaluar modelo con los datos de prueba\n",
        "test_loss, test_accuracy = modelo.evaluate(datos_prueba, steps=math.ceil(Num_ejem_prueba/batchsize))\n",
        "print(test_loss*100, test_accuracy*100)\n",
        "\n",
        "#Graficar salida\n",
        "def graficar_imagenes(i, predictions_array, true_labels, images):\n",
        "  predictions_array, true_labels, img = predictions_array[i], true_labels[i], images[i]\n",
        "  plt.grid(False)\n",
        "  plt.xticks([])\n",
        "  plt.yticks([])\n",
        "  plt.imshow(img[...,0], cmap=plt.cm.binary)\n",
        "\n",
        "  predicted_label = np.argmax(predictions_array)\n",
        "  if predicted_label == true_labels:\n",
        "    color = \"green\"\n",
        "  else:\n",
        "    color = \"red\"\n",
        "  plt.xlabel(\"Prediccion: {}\".format(letras[predicted_label], color=color))\n",
        "\n",
        "#Convertir imagenes en matriices\n",
        "for imagenes_prueba, etiquetas_prueba, in datos_prueba.take(1):\n",
        "  imagenes_prueba = imagenes_prueba.numpy()\n",
        "  etiquetas_prueba = etiquetas_prueba.numpy()\n",
        "  Predicciones = modelo.predict(imagenes_prueba)\n",
        "\n",
        "#Graficamos matrices\n",
        "def graficar_valores_matrices(i, predictions_array, true_label):\n",
        "  predictions_array, true_label = predictions_array[i], true_label[i]\n",
        "  plt.grid(False)\n",
        "  plt.xticks([])\n",
        "  plt.yticks([])\n",
        "  thisplot = plt.bar(range(10), predictions_array, color=\"#e63946\")\n",
        "  plt.ylim([0,1])\n",
        "  predicted_label = np.argmax(predictions_array)\n",
        "\n",
        "  thisplot[predicted_label].set_color(\"red\")\n",
        "  thisplot[true_label].set_color(\"#03045e\")\n",
        "\n",
        "#Metodo para graficar\n",
        "numfilas = 3\n",
        "numcolum = 3\n",
        "numimages = numfilas*numcolum\n",
        "\n",
        "plt.figure(figsize=(2*2*numcolum, 2*numfilas))\n",
        "for i in range(numimages):\n",
        "  plt.subplot(numfilas, 2*numcolum, 2*i+1)\n",
        "  graficar_imagenes(i, Predicciones, etiquetas_prueba, imagenes_prueba)\n",
        "  plt.subplot(numfilas, 2*numcolum, 2*i+2)\n",
        "  graficar_valores_matrices(i, Predicciones, etiquetas_prueba)\n",
        "\n",
        "plt.show()"
      ],
      "execution_count": 5,
      "outputs": [
        {
          "output_type": "stream",
          "name": "stdout",
          "text": [
            "313/313 [==============================] - 2s 5ms/step - loss: 0.3428 - accuracy: 0.8750\n",
            "34.28081572055817 87.5\n"
          ]
        },
        {
          "output_type": "display_data",
          "data": {
            "image/png": "[encoded data removed]",
            "text/plain": [
              "<Figure size 864x432 with 18 Axes>"
            ]
          },
          "metadata": {}
        }
      ]
    }
  ]
}