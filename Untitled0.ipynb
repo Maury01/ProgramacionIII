{
  "nbformat": 4,
  "nbformat_minor": 0,
  "metadata": {
    "colab": {
      "name": "Untitled0.ipynb",
      "provenance": [],
      "collapsed_sections": [],
      "authorship_tag": "ABX9TyO2RuH8j+hjWchTPYztP0a6",
      "include_colab_link": true
    },
    "kernelspec": {
      "name": "python3",
      "display_name": "Python 3"
    },
    "language_info": {
      "name": "python"
    }
  },
  "cells": [
    {
      "cell_type": "markdown",
      "metadata": {
        "id": "view-in-github",
        "colab_type": "text"
      },
      "source": [
        "<a href=\"https://colab.research.google.com/github/Maury01/ProgramacionIII/blob/main/Untitled0.ipynb\" target=\"_parent\"><img src=\"https://colab.research.google.com/assets/colab-badge.svg\" alt=\"Open In Colab\"/></a>"
      ]
    },
    {
      "cell_type": "code",
      "metadata": {
        "colab": {
          "base_uri": "https://localhost:8080/"
        },
        "id": "s4PlCka7WIiE",
        "outputId": "89c1d31d-c58f-4551-f653-39e58f3b815b"
      },
      "source": [
        "#Ejercicio 3\n",
        "nmeses = int(input(\"Meses: \"))\n",
        "i = 0\n",
        "acumulacion = 0\n",
        "while( i<= nmeses):\n",
        "  acumulacion += i\n",
        "  i+=1\n",
        "print(\"Meses: \", nmeses, \" acumulado: \", acumulacion)\n"
      ],
      "execution_count": null,
      "outputs": [
        {
          "output_type": "stream",
          "name": "stdout",
          "text": [
            "Meses: 8\n",
            "Meses:  8  acumulado:  36\n"
          ]
        }
      ]
    },
    {
      "cell_type": "code",
      "metadata": {
        "colab": {
          "base_uri": "https://localhost:8080/"
        },
        "id": "22W-yj9yaiYq",
        "outputId": "97ea4501-0d89-4cfc-8a8d-2dd3c852daea"
      },
      "source": [
        "nmeses = int(input(\"Meses:\" ))\n",
        "Cantidad = nmeses*(nmeses/2+0.5)\n",
        "print(\"El acumulado de: \", nmeses, \" Meses es: \", Cantidad)"
      ],
      "execution_count": null,
      "outputs": [
        {
          "output_type": "stream",
          "name": "stdout",
          "text": [
            "Meses:6\n",
            "El acumulado de:  6  Meses es:  21.0\n"
          ]
        }
      ]
    },
    {
      "cell_type": "code",
      "metadata": {
        "id": "VYFmipKLXZzk"
      },
      "source": [
        "#Ejercicio 4 conversor\n",
        "etiquetas = [\n",
        "            [],  #0\n",
        "            [0], #monedas\n",
        "            [0], #Longitud\n",
        "            [0], #Masa\n",
        "            [0], #Almacenamiento\n",
        "            [0], #Tiempo\n",
        "            [0], #Volumen\n",
        "            [0] #Area\n",
        "]\n",
        "valores = [\n",
        "           [],#\n",
        "           [0], #monedas\n",
        "           [0], #Longitud\n",
        "           [0], #Masa\n",
        "           [0], #Almacenamiento\n",
        "           [0], #Tiempo\n",
        "           [0], #Volumen\n",
        "           [0] #Area\n",
        "]\n",
        "def conversores(opcion, de, a, cantidad):\n",
        "  return valores[opcion][a] / valores[opcion][de] * cantidad\n",
        "\n",
        "print(\" ** MENU CONVERSORES ** \")\n",
        "print(\" 1. Monedas, \\n 2. Longitud \\n 3. Masa \\n 4. Almacenamiento \")\n",
        "opcion = int(input(\"CONVERSOR: \"))\n",
        "\n",
        "print( etiquetas[opcion] )\n",
        "de = int(input(\"DE: \"))\n",
        "a = int(input(\"A: \"))\n",
        "cantidad = float(input(\"Cantidad: \"))\n",
        "\n",
        "print( etiquetas[opcion][de], \" a \", etiquetas[opcion][a], \" es: \", conversores(opcion, de, a, cantidad) )"
      ],
      "execution_count": null,
      "outputs": []
    },
    {
      "cell_type": "code",
      "metadata": {
        "id": "ZOy7LJLs_rrV"
      },
      "source": [
        "#Libreria panda\n",
        "import pandas as pd\n",
        "#Libreria MatPlotLib\n",
        "import matplotlib.pyplot as plt\n"
      ],
      "execution_count": 1,
      "outputs": []
    },
    {
      "cell_type": "code",
      "metadata": {
        "colab": {
          "base_uri": "https://localhost:8080/"
        },
        "id": "BCvsW8mu_1qL",
        "outputId": "ded631d6-71de-491b-afe6-5faa5e52feea"
      },
      "source": [
        "LenguajesProgramacion = pd.Series([\"VB\", \"JAVA\", \"Python\", \"HTML\", \"CSS\", \"JS\", \"C#\", \"PHP\", \"XML\"],  index=[1, 2, 3, 4, 4, 4, 5, 4, 6])\n",
        "#print(LenguajesProgramacion, LenguajesProgramacion[4])\n",
        "\n",
        "MisLenguajes = {\n",
        "    1: \"VB\",\n",
        "    2: \"JAVA\",\n",
        "    3: \"Python\",\n",
        "    4: \"HTML\",\n",
        "    5: \"CSS\",\n",
        "    6: \"JS\",\n",
        "    0: \"C#\",\n",
        "    8: \"PHP\",\n",
        "    10: \"XML\"\n",
        "}\n",
        "\n",
        "DiccionarioLenguajes = pd.Series(MisLenguajes)\n",
        "print(DiccionarioLenguajes, DiccionarioLenguajes[1])"
      ],
      "execution_count": null,
      "outputs": [
        {
          "output_type": "stream",
          "name": "stdout",
          "text": [
            "1         VB\n",
            "2       JAVA\n",
            "3     Python\n",
            "4       HTML\n",
            "5        CSS\n",
            "6         JS\n",
            "0         C#\n",
            "8        PHP\n",
            "10       XML\n",
            "dtype: object VB\n"
          ]
        }
      ]
    },
    {
      "cell_type": "code",
      "metadata": {
        "colab": {
          "base_uri": "https://localhost:8080/",
          "height": 435
        },
        "id": "WDSm3l2BGex6",
        "outputId": "c3e7418d-ad08-4628-c2ec-35d1e9637a08"
      },
      "source": [
        "archivo = pd.read_csv(\"/content/Notas2.csv\",sep=\";\",encoding=\"utf-8\")\n",
        "#print(archivo, archivo[\"Notas\"])\n",
        "\n",
        "procesar = pd.crosstab(index=archivo[\"Notas\"],columns=\"cant_veces_repite\")\n",
        "print(procesar)\n",
        "\n",
        "plt.pie(procesar, labels=procesar.index)\n",
        "plt.xlabel(\"Notas por estudiante\")\n",
        "plt.show()"
      ],
      "execution_count": 8,
      "outputs": [
        {
          "output_type": "stream",
          "name": "stdout",
          "text": [
            "col_0  cant_veces_repite\n",
            "Notas                   \n",
            "2                      2\n",
            "4                      2\n",
            "7                      1\n",
            "9                      2\n",
            "10                     3\n"
          ]
        },
        {
          "output_type": "stream",
          "name": "stderr",
          "text": [
            "/usr/local/lib/python3.7/dist-packages/ipykernel_launcher.py:7: MatplotlibDeprecationWarning: Non-1D inputs to pie() are currently squeeze()d, but this behavior is deprecated since 3.1 and will be removed in 3.3; pass a 1D array instead.\n",
            "  import sys\n"
          ]
        },
        {
          "output_type": "display_data",
          "data": {
            "image/png": "[encoded data removed]",
            "text/plain": [
              "<Figure size 432x288 with 1 Axes>"
            ]
          },
          "metadata": {}
        }
      ]
    },
    {
      "cell_type": "code",
      "metadata": {
        "colab": {
          "base_uri": "https://localhost:8080/"
        },
        "id": "mz6g-5m4IjqU",
        "outputId": "f9e72c16-db7e-47e3-83e8-ec2f31d12a20"
      },
      "source": [
        "usuario = pd.read_csv(\"/content/usuarios.csv\",sep=\";\",encoding=\"utf-8\")\n",
        "pelicula = pd.read_csv(\"/content/peliculas.csv\",sep=\";\",encoding=\"utf-8\")\n",
        "usuarioPelicula = pd.read_csv(\"/content/UsuariosPeliculas.csv\",sep=\";\",encoding=\"utf-8\")\n",
        "\n",
        "#print(usuario)\n",
        "#print(pelicula)\n",
        "#print(usuarioPelicula)\n",
        "\n",
        "usuarioUserpelicula = pd.merge(pd.merge(usuario, usuarioPelicula), pelicula, on=\"idPelicula\")\n",
        "print(usuarioUserpelicula[\"nombre\"], usuarioUserpelicula[\"titulo\"], usuarioUserpelicula[\"aceptacion\"])"
      ],
      "execution_count": 13,
      "outputs": [
        {
          "output_type": "stream",
          "name": "stdout",
          "text": [
            "0        Luis Hernandez\n",
            "1        Luis Hernandez\n",
            "2      Mauricio Ramirez\n",
            "3    Michelle Caballero\n",
            "4           Juan Perez \n",
            "5       Evelin Bustillo\n",
            "Name: nombre, dtype: object 0               End Game\n",
            "1            Winniw Phoo\n",
            "2             Chang Shin\n",
            "3            Tom y Jerry\n",
            "4               La Monja\n",
            "5    Dora La Exploradora\n",
            "Name: titulo, dtype: object 0    4\n",
            "1    4\n",
            "2    5\n",
            "3    2\n",
            "4    1\n",
            "5    5\n",
            "Name: aceptacion, dtype: int64\n"
          ]
        }
      ]
    }
  ]
}