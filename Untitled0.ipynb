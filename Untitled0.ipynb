{
  "nbformat": 4,
  "nbformat_minor": 0,
  "metadata": {
    "colab": {
      "name": "Untitled0.ipynb",
      "provenance": [],
      "collapsed_sections": [],
      "authorship_tag": "ABX9TyPsnEY9Ye8H/gKjyJKy2YEC",
      "include_colab_link": true
    },
    "kernelspec": {
      "name": "python3",
      "display_name": "Python 3"
    },
    "language_info": {
      "name": "python"
    }
  },
  "cells": [
    {
      "cell_type": "markdown",
      "metadata": {
        "id": "view-in-github",
        "colab_type": "text"
      },
      "source": [
        "<a href=\"https://colab.research.google.com/github/Maury01/ProgramacionIII/blob/main/Untitled0.ipynb\" target=\"_parent\"><img src=\"https://colab.research.google.com/assets/colab-badge.svg\" alt=\"Open In Colab\"/></a>"
      ]
    },
    {
      "cell_type": "code",
      "metadata": {
        "colab": {
          "base_uri": "https://localhost:8080/"
        },
        "id": "s4PlCka7WIiE",
        "outputId": "89c1d31d-c58f-4551-f653-39e58f3b815b"
      },
      "source": [
        "#Ejercicio 3\n",
        "nmeses = int(input(\"Meses: \"))\n",
        "i = 0\n",
        "acumulacion = 0\n",
        "while( i<= nmeses):\n",
        "  acumulacion += i\n",
        "  i+=1\n",
        "print(\"Meses: \", nmeses, \" acumulado: \", acumulacion)\n"
      ],
      "execution_count": null,
      "outputs": [
        {
          "output_type": "stream",
          "name": "stdout",
          "text": [
            "Meses: 8\n",
            "Meses:  8  acumulado:  36\n"
          ]
        }
      ]
    },
    {
      "cell_type": "code",
      "metadata": {
        "colab": {
          "base_uri": "https://localhost:8080/"
        },
        "id": "22W-yj9yaiYq",
        "outputId": "97ea4501-0d89-4cfc-8a8d-2dd3c852daea"
      },
      "source": [
        "nmeses = int(input(\"Meses:\" ))\n",
        "Cantidad = nmeses*(nmeses/2+0.5)\n",
        "print(\"El acumulado de: \", nmeses, \" Meses es: \", Cantidad)"
      ],
      "execution_count": null,
      "outputs": [
        {
          "output_type": "stream",
          "name": "stdout",
          "text": [
            "Meses:6\n",
            "El acumulado de:  6  Meses es:  21.0\n"
          ]
        }
      ]
    },
    {
      "cell_type": "code",
      "metadata": {
        "id": "VYFmipKLXZzk"
      },
      "source": [
        "#Ejercicio 4 conversor\n",
        "etiquetas = [\n",
        "            [],  #0\n",
        "            [0], #monedas\n",
        "            [0], #Longitud\n",
        "            [0], #Masa\n",
        "            [0], #Almacenamiento\n",
        "            [0], #Tiempo\n",
        "            [0], #Volumen\n",
        "            [0] #Area\n",
        "]\n",
        "valores = [\n",
        "           [],#\n",
        "           [0], #monedas\n",
        "           [0], #Longitud\n",
        "           [0], #Masa\n",
        "           [0], #Almacenamiento\n",
        "           [0], #Tiempo\n",
        "           [0], #Volumen\n",
        "           [0] #Area\n",
        "]\n",
        "def conversores(opcion, de, a, cantidad):\n",
        "  return valores[opcion][a] / valores[opcion][de] * cantidad\n",
        "\n",
        "print(\" ** MENU CONVERSORES ** \")\n",
        "print(\" 1. Monedas, \\n 2. Longitud \\n 3. Masa \\n 4. Almacenamiento \")\n",
        "opcion = int(input(\"CONVERSOR: \"))\n",
        "\n",
        "print( etiquetas[opcion] )\n",
        "de = int(input(\"DE: \"))\n",
        "a = int(input(\"A: \"))\n",
        "cantidad = float(input(\"Cantidad: \"))\n",
        "\n",
        "print( etiquetas[opcion][de], \" a \", etiquetas[opcion][a], \" es: \", conversores(opcion, de, a, cantidad) )"
      ],
      "execution_count": null,
      "outputs": []
    },
    {
      "cell_type": "code",
      "metadata": {
        "id": "ZOy7LJLs_rrV"
      },
      "source": [
        "#Libreria panda\n",
        "import pandas as pd\n",
        "#Libreria MatPlotLib\n",
        "import matplotlib.pyplot as plt\n"
      ],
      "execution_count": null,
      "outputs": []
    },
    {
      "cell_type": "code",
      "metadata": {
        "colab": {
          "base_uri": "https://localhost:8080/"
        },
        "id": "BCvsW8mu_1qL",
        "outputId": "ded631d6-71de-491b-afe6-5faa5e52feea"
      },
      "source": [
        "LenguajesProgramacion = pd.Series([\"VB\", \"JAVA\", \"Python\", \"HTML\", \"CSS\", \"JS\", \"C#\", \"PHP\", \"XML\"],  index=[1, 2, 3, 4, 4, 4, 5, 4, 6])\n",
        "#print(LenguajesProgramacion, LenguajesProgramacion[4])\n",
        "\n",
        "MisLenguajes = {\n",
        "    1: \"VB\",\n",
        "    2: \"JAVA\",\n",
        "    3: \"Python\",\n",
        "    4: \"HTML\",\n",
        "    5: \"CSS\",\n",
        "    6: \"JS\",\n",
        "    0: \"C#\",\n",
        "    8: \"PHP\",\n",
        "    10: \"XML\"\n",
        "}\n",
        "\n",
        "DiccionarioLenguajes = pd.Series(MisLenguajes)\n",
        "print(DiccionarioLenguajes, DiccionarioLenguajes[1])"
      ],
      "execution_count": null,
      "outputs": [
        {
          "output_type": "stream",
          "name": "stdout",
          "text": [
            "1         VB\n",
            "2       JAVA\n",
            "3     Python\n",
            "4       HTML\n",
            "5        CSS\n",
            "6         JS\n",
            "0         C#\n",
            "8        PHP\n",
            "10       XML\n",
            "dtype: object VB\n"
          ]
        }
      ]
    },
    {
      "cell_type": "code",
      "metadata": {
        "colab": {
          "base_uri": "https://localhost:8080/",
          "height": 435
        },
        "id": "WDSm3l2BGex6",
        "outputId": "c3e7418d-ad08-4628-c2ec-35d1e9637a08"
      },
      "source": [
        "archivo = pd.read_csv(\"/content/Notas2.csv\",sep=\";\",encoding=\"utf-8\")\n",
        "#print(archivo, archivo[\"Notas\"])\n",
        "\n",
        "procesar = pd.crosstab(index=archivo[\"Notas\"],columns=\"cant_veces_repite\")\n",
        "print(procesar)\n",
        "\n",
        "plt.pie(procesar, labels=procesar.index)\n",
        "plt.xlabel(\"Notas por estudiante\")\n",
        "plt.show()"
      ],
      "execution_count": null,
      "outputs": [
        {
          "output_type": "stream",
          "name": "stdout",
          "text": [
            "col_0  cant_veces_repite\n",
            "Notas                   \n",
            "2                      2\n",
            "4                      2\n",
            "7                      1\n",
            "9                      2\n",
            "10                     3\n"
          ]
        },
        {
          "output_type": "stream",
          "name": "stderr",
          "text": [
            "/usr/local/lib/python3.7/dist-packages/ipykernel_launcher.py:7: MatplotlibDeprecationWarning: Non-1D inputs to pie() are currently squeeze()d, but this behavior is deprecated since 3.1 and will be removed in 3.3; pass a 1D array instead.\n",
            "  import sys\n"
          ]
        },
        {
          "output_type": "display_data",
          "data": {
            "image/png": "[encoded data removed]",
            "text/plain": [
              "<Figure size 432x288 with 1 Axes>"
            ]
          },
          "metadata": {}
        }
      ]
    },
    {
      "cell_type": "code",
      "metadata": {
        "colab": {
          "base_uri": "https://localhost:8080/",
          "height": 380
        },
        "id": "mz6g-5m4IjqU",
        "outputId": "9917d941-f10c-4ebc-8b82-d90f0c854f5c"
      },
      "source": [
        "usuario = pd.read_csv(\"/content/usuarios.csv\",sep=\";\",encoding=\"utf-8\")\n",
        "pelicula = pd.read_csv(\"/content/peliculas.csv\",sep=\";\",encoding=\"utf-8\")\n",
        "usuarioPelicula = pd.read_csv(\"/content/UsuariosPeliculas.csv\",sep=\";\",encoding=\"utf-8\")\n",
        "\n",
        "#print(usuario)\n",
        "#print(pelicula)\n",
        "#print(usuarioPelicula)\n",
        "\n",
        "usuarioUserpelicula = pd.merge(pd.merge(usuario, usuarioPelicula), pelicula, on=\"idPelicula\")\n",
        "print(usuarioUserpelicula[\"nombre\"], usuarioUserpelicula[\"titulo\"], usuarioUserpelicula[\"aceptacion\"])\n",
        "print(usuarioUserpelicula)"
      ],
      "execution_count": 17,
      "outputs": [
        {
          "output_type": "error",
          "ename": "FileNotFoundError",
          "evalue": "ignored",
          "traceback": [
            "\u001b[0;31m---------------------------------------------------------------------------\u001b[0m",
            "\u001b[0;31mFileNotFoundError\u001b[0m                         Traceback (most recent call last)",
            "\u001b[0;32m<ipython-input-17-d8719be1abe6>\u001b[0m in \u001b[0;36m<module>\u001b[0;34m()\u001b[0m\n\u001b[0;32m----> 1\u001b[0;31m \u001b[0musuario\u001b[0m \u001b[0;34m=\u001b[0m \u001b[0mpd\u001b[0m\u001b[0;34m.\u001b[0m\u001b[0mread_csv\u001b[0m\u001b[0;34m(\u001b[0m\u001b[0;34m\"/content/usuarios.csv\"\u001b[0m\u001b[0;34m,\u001b[0m\u001b[0msep\u001b[0m\u001b[0;34m=\u001b[0m\u001b[0;34m\";\"\u001b[0m\u001b[0;34m,\u001b[0m\u001b[0mencoding\u001b[0m\u001b[0;34m=\u001b[0m\u001b[0;34m\"utf-8\"\u001b[0m\u001b[0;34m)\u001b[0m\u001b[0;34m\u001b[0m\u001b[0;34m\u001b[0m\u001b[0m\n\u001b[0m\u001b[1;32m      2\u001b[0m \u001b[0mpelicula\u001b[0m \u001b[0;34m=\u001b[0m \u001b[0mpd\u001b[0m\u001b[0;34m.\u001b[0m\u001b[0mread_csv\u001b[0m\u001b[0;34m(\u001b[0m\u001b[0;34m\"/content/peliculas.csv\"\u001b[0m\u001b[0;34m,\u001b[0m\u001b[0msep\u001b[0m\u001b[0;34m=\u001b[0m\u001b[0;34m\";\"\u001b[0m\u001b[0;34m,\u001b[0m\u001b[0mencoding\u001b[0m\u001b[0;34m=\u001b[0m\u001b[0;34m\"utf-8\"\u001b[0m\u001b[0;34m)\u001b[0m\u001b[0;34m\u001b[0m\u001b[0;34m\u001b[0m\u001b[0m\n\u001b[1;32m      3\u001b[0m \u001b[0musuarioPelicula\u001b[0m \u001b[0;34m=\u001b[0m \u001b[0mpd\u001b[0m\u001b[0;34m.\u001b[0m\u001b[0mread_csv\u001b[0m\u001b[0;34m(\u001b[0m\u001b[0;34m\"/content/UsuariosPeliculas.csv\"\u001b[0m\u001b[0;34m,\u001b[0m\u001b[0msep\u001b[0m\u001b[0;34m=\u001b[0m\u001b[0;34m\";\"\u001b[0m\u001b[0;34m,\u001b[0m\u001b[0mencoding\u001b[0m\u001b[0;34m=\u001b[0m\u001b[0;34m\"utf-8\"\u001b[0m\u001b[0;34m)\u001b[0m\u001b[0;34m\u001b[0m\u001b[0;34m\u001b[0m\u001b[0m\n\u001b[1;32m      4\u001b[0m \u001b[0;34m\u001b[0m\u001b[0m\n\u001b[1;32m      5\u001b[0m \u001b[0;31m#print(usuario)\u001b[0m\u001b[0;34m\u001b[0m\u001b[0;34m\u001b[0m\u001b[0;34m\u001b[0m\u001b[0m\n",
            "\u001b[0;32m/usr/local/lib/python3.7/dist-packages/pandas/io/parsers.py\u001b[0m in \u001b[0;36mread_csv\u001b[0;34m(filepath_or_buffer, sep, delimiter, header, names, index_col, usecols, squeeze, prefix, mangle_dupe_cols, dtype, engine, converters, true_values, false_values, skipinitialspace, skiprows, skipfooter, nrows, na_values, keep_default_na, na_filter, verbose, skip_blank_lines, parse_dates, infer_datetime_format, keep_date_col, date_parser, dayfirst, cache_dates, iterator, chunksize, compression, thousands, decimal, lineterminator, quotechar, quoting, doublequote, escapechar, comment, encoding, dialect, error_bad_lines, warn_bad_lines, delim_whitespace, low_memory, memory_map, float_precision)\u001b[0m\n\u001b[1;32m    686\u001b[0m     )\n\u001b[1;32m    687\u001b[0m \u001b[0;34m\u001b[0m\u001b[0m\n\u001b[0;32m--> 688\u001b[0;31m     \u001b[0;32mreturn\u001b[0m \u001b[0m_read\u001b[0m\u001b[0;34m(\u001b[0m\u001b[0mfilepath_or_buffer\u001b[0m\u001b[0;34m,\u001b[0m \u001b[0mkwds\u001b[0m\u001b[0;34m)\u001b[0m\u001b[0;34m\u001b[0m\u001b[0;34m\u001b[0m\u001b[0m\n\u001b[0m\u001b[1;32m    689\u001b[0m \u001b[0;34m\u001b[0m\u001b[0m\n\u001b[1;32m    690\u001b[0m \u001b[0;34m\u001b[0m\u001b[0m\n",
            "\u001b[0;32m/usr/local/lib/python3.7/dist-packages/pandas/io/parsers.py\u001b[0m in \u001b[0;36m_read\u001b[0;34m(filepath_or_buffer, kwds)\u001b[0m\n\u001b[1;32m    452\u001b[0m \u001b[0;34m\u001b[0m\u001b[0m\n\u001b[1;32m    453\u001b[0m     \u001b[0;31m# Create the parser.\u001b[0m\u001b[0;34m\u001b[0m\u001b[0;34m\u001b[0m\u001b[0;34m\u001b[0m\u001b[0m\n\u001b[0;32m--> 454\u001b[0;31m     \u001b[0mparser\u001b[0m \u001b[0;34m=\u001b[0m \u001b[0mTextFileReader\u001b[0m\u001b[0;34m(\u001b[0m\u001b[0mfp_or_buf\u001b[0m\u001b[0;34m,\u001b[0m \u001b[0;34m**\u001b[0m\u001b[0mkwds\u001b[0m\u001b[0;34m)\u001b[0m\u001b[0;34m\u001b[0m\u001b[0;34m\u001b[0m\u001b[0m\n\u001b[0m\u001b[1;32m    455\u001b[0m \u001b[0;34m\u001b[0m\u001b[0m\n\u001b[1;32m    456\u001b[0m     \u001b[0;32mif\u001b[0m \u001b[0mchunksize\u001b[0m \u001b[0;32mor\u001b[0m \u001b[0miterator\u001b[0m\u001b[0;34m:\u001b[0m\u001b[0;34m\u001b[0m\u001b[0;34m\u001b[0m\u001b[0m\n",
            "\u001b[0;32m/usr/local/lib/python3.7/dist-packages/pandas/io/parsers.py\u001b[0m in \u001b[0;36m__init__\u001b[0;34m(self, f, engine, **kwds)\u001b[0m\n\u001b[1;32m    946\u001b[0m             \u001b[0mself\u001b[0m\u001b[0;34m.\u001b[0m\u001b[0moptions\u001b[0m\u001b[0;34m[\u001b[0m\u001b[0;34m\"has_index_names\"\u001b[0m\u001b[0;34m]\u001b[0m \u001b[0;34m=\u001b[0m \u001b[0mkwds\u001b[0m\u001b[0;34m[\u001b[0m\u001b[0;34m\"has_index_names\"\u001b[0m\u001b[0;34m]\u001b[0m\u001b[0;34m\u001b[0m\u001b[0;34m\u001b[0m\u001b[0m\n\u001b[1;32m    947\u001b[0m \u001b[0;34m\u001b[0m\u001b[0m\n\u001b[0;32m--> 948\u001b[0;31m         \u001b[0mself\u001b[0m\u001b[0;34m.\u001b[0m\u001b[0m_make_engine\u001b[0m\u001b[0;34m(\u001b[0m\u001b[0mself\u001b[0m\u001b[0;34m.\u001b[0m\u001b[0mengine\u001b[0m\u001b[0;34m)\u001b[0m\u001b[0;34m\u001b[0m\u001b[0;34m\u001b[0m\u001b[0m\n\u001b[0m\u001b[1;32m    949\u001b[0m \u001b[0;34m\u001b[0m\u001b[0m\n\u001b[1;32m    950\u001b[0m     \u001b[0;32mdef\u001b[0m \u001b[0mclose\u001b[0m\u001b[0;34m(\u001b[0m\u001b[0mself\u001b[0m\u001b[0;34m)\u001b[0m\u001b[0;34m:\u001b[0m\u001b[0;34m\u001b[0m\u001b[0;34m\u001b[0m\u001b[0m\n",
            "\u001b[0;32m/usr/local/lib/python3.7/dist-packages/pandas/io/parsers.py\u001b[0m in \u001b[0;36m_make_engine\u001b[0;34m(self, engine)\u001b[0m\n\u001b[1;32m   1178\u001b[0m     \u001b[0;32mdef\u001b[0m \u001b[0m_make_engine\u001b[0m\u001b[0;34m(\u001b[0m\u001b[0mself\u001b[0m\u001b[0;34m,\u001b[0m \u001b[0mengine\u001b[0m\u001b[0;34m=\u001b[0m\u001b[0;34m\"c\"\u001b[0m\u001b[0;34m)\u001b[0m\u001b[0;34m:\u001b[0m\u001b[0;34m\u001b[0m\u001b[0;34m\u001b[0m\u001b[0m\n\u001b[1;32m   1179\u001b[0m         \u001b[0;32mif\u001b[0m \u001b[0mengine\u001b[0m \u001b[0;34m==\u001b[0m \u001b[0;34m\"c\"\u001b[0m\u001b[0;34m:\u001b[0m\u001b[0;34m\u001b[0m\u001b[0;34m\u001b[0m\u001b[0m\n\u001b[0;32m-> 1180\u001b[0;31m             \u001b[0mself\u001b[0m\u001b[0;34m.\u001b[0m\u001b[0m_engine\u001b[0m \u001b[0;34m=\u001b[0m \u001b[0mCParserWrapper\u001b[0m\u001b[0;34m(\u001b[0m\u001b[0mself\u001b[0m\u001b[0;34m.\u001b[0m\u001b[0mf\u001b[0m\u001b[0;34m,\u001b[0m \u001b[0;34m**\u001b[0m\u001b[0mself\u001b[0m\u001b[0;34m.\u001b[0m\u001b[0moptions\u001b[0m\u001b[0;34m)\u001b[0m\u001b[0;34m\u001b[0m\u001b[0;34m\u001b[0m\u001b[0m\n\u001b[0m\u001b[1;32m   1181\u001b[0m         \u001b[0;32melse\u001b[0m\u001b[0;34m:\u001b[0m\u001b[0;34m\u001b[0m\u001b[0;34m\u001b[0m\u001b[0m\n\u001b[1;32m   1182\u001b[0m             \u001b[0;32mif\u001b[0m \u001b[0mengine\u001b[0m \u001b[0;34m==\u001b[0m \u001b[0;34m\"python\"\u001b[0m\u001b[0;34m:\u001b[0m\u001b[0;34m\u001b[0m\u001b[0;34m\u001b[0m\u001b[0m\n",
            "\u001b[0;32m/usr/local/lib/python3.7/dist-packages/pandas/io/parsers.py\u001b[0m in \u001b[0;36m__init__\u001b[0;34m(self, src, **kwds)\u001b[0m\n\u001b[1;32m   1991\u001b[0m         \u001b[0;32mif\u001b[0m \u001b[0mkwds\u001b[0m\u001b[0;34m.\u001b[0m\u001b[0mget\u001b[0m\u001b[0;34m(\u001b[0m\u001b[0;34m\"compression\"\u001b[0m\u001b[0;34m)\u001b[0m \u001b[0;32mis\u001b[0m \u001b[0;32mNone\u001b[0m \u001b[0;32mand\u001b[0m \u001b[0mencoding\u001b[0m\u001b[0;34m:\u001b[0m\u001b[0;34m\u001b[0m\u001b[0;34m\u001b[0m\u001b[0m\n\u001b[1;32m   1992\u001b[0m             \u001b[0;32mif\u001b[0m \u001b[0misinstance\u001b[0m\u001b[0;34m(\u001b[0m\u001b[0msrc\u001b[0m\u001b[0;34m,\u001b[0m \u001b[0mstr\u001b[0m\u001b[0;34m)\u001b[0m\u001b[0;34m:\u001b[0m\u001b[0;34m\u001b[0m\u001b[0;34m\u001b[0m\u001b[0m\n\u001b[0;32m-> 1993\u001b[0;31m                 \u001b[0msrc\u001b[0m \u001b[0;34m=\u001b[0m \u001b[0mopen\u001b[0m\u001b[0;34m(\u001b[0m\u001b[0msrc\u001b[0m\u001b[0;34m,\u001b[0m \u001b[0;34m\"rb\"\u001b[0m\u001b[0;34m)\u001b[0m\u001b[0;34m\u001b[0m\u001b[0;34m\u001b[0m\u001b[0m\n\u001b[0m\u001b[1;32m   1994\u001b[0m                 \u001b[0mself\u001b[0m\u001b[0;34m.\u001b[0m\u001b[0mhandles\u001b[0m\u001b[0;34m.\u001b[0m\u001b[0mappend\u001b[0m\u001b[0;34m(\u001b[0m\u001b[0msrc\u001b[0m\u001b[0;34m)\u001b[0m\u001b[0;34m\u001b[0m\u001b[0;34m\u001b[0m\u001b[0m\n\u001b[1;32m   1995\u001b[0m \u001b[0;34m\u001b[0m\u001b[0m\n",
            "\u001b[0;31mFileNotFoundError\u001b[0m: [Errno 2] No such file or directory: '/content/usuarios.csv'"
          ]
        }
      ]
    },
    {
      "cell_type": "code",
      "metadata": {
        "colab": {
          "base_uri": "https://localhost:8080/"
        },
        "id": "83qulxmAEDm_",
        "outputId": "94daa910-0ac6-4169-afe4-bc173ab2a1bd"
      },
      "source": [
        "#Generador de contraseñas:\n",
        "import random\n",
        "lower = \"abcdfghijklmnopqrstuvwxyz\"\n",
        "upper = \"ABCDFGHIJKLMNOPQRSTUVWXYZ\"\n",
        "numbers = \"0123456789\"\n",
        "symbols = \"_.[]{}/*-+;:,.!#$%&=()?¡'¿\"\n",
        "\n",
        "all = lower + upper + numbers + symbols\n",
        "lenght = 20\n",
        "password = \"\".join(random.sample(all,lenght))\n",
        "print(\"Contraseña generada: \",password)"
      ],
      "execution_count": 11,
      "outputs": [
        {
          "output_type": "stream",
          "name": "stdout",
          "text": [
            "Contraseña generada:  xQ1!ZBaK:b4Aj]O?mqFH\n"
          ]
        }
      ]
    },
    {
      "cell_type": "code",
      "metadata": {
        "colab": {
          "base_uri": "https://localhost:8080/"
        },
        "id": "01OgIaO3DJsv",
        "outputId": "77d6b3b7-87cb-477a-f3d0-f3bd2eb544c0"
      },
      "source": [
        "#Uso de tenseroflow\n",
        "\n",
        "import tensorflow as tf\n",
        "resp = tf.add(5,7).numpy()\n",
        "print(resp)"
      ],
      "execution_count": 2,
      "outputs": [
        {
          "output_type": "stream",
          "name": "stdout",
          "text": [
            "12\n"
          ]
        }
      ]
    },
    {
      "cell_type": "code",
      "metadata": {
        "id": "XAlGcdtwI9Mu"
      },
      "source": [
        "#Entrenando una IA:\n",
        "  #Importando librerias\n",
        "\n",
        "import tensorflow as tf\n",
        "import pandas as pd\n",
        "import matplotlib.pyplot as plt\n",
        "import seaborn as sns"
      ],
      "execution_count": 12,
      "outputs": []
    },
    {
      "cell_type": "code",
      "metadata": {
        "colab": {
          "base_uri": "https://localhost:8080/",
          "height": 872
        },
        "id": "wmzz2XHBJXV1",
        "outputId": "ea3071a6-000a-44e6-ba1d-135b03036788"
      },
      "source": [
        "#Entrenando una IA:\n",
        "  #Obteniendo datos\n",
        "temperaturas = pd.read_csv(\"/content/datos.csv\",sep=\";\")\n",
        "print(temperaturas)\n",
        "\n",
        "sns.scatterplot(temperaturas[\"celsius\"], temperaturas[\"farenheit\"])\n",
        "plt.show()"
      ],
      "execution_count": 38,
      "outputs": [
        {
          "output_type": "stream",
          "name": "stdout",
          "text": [
            "    celsius  farenheit\n",
            "0       -40      -40.0\n",
            "1       -35      -31.0\n",
            "2       -30      -22.0\n",
            "3       -25      -13.0\n",
            "4       -20       -4.0\n",
            "5       -15        5.0\n",
            "6       -10       14.0\n",
            "7        -5       23.0\n",
            "8         0       32.0\n",
            "9         5       41.0\n",
            "10       10       50.0\n",
            "11       15       59.0\n",
            "12       20       68.0\n",
            "13       25       77.0\n",
            "14       30       86.0\n",
            "15       35       95.0\n",
            "16       36       96.8\n",
            "17       37       98.6\n",
            "18       38      100.4\n",
            "19       39      102.2\n",
            "20       40      104.0\n",
            "21       45      113.0\n",
            "22       50      122.0\n",
            "23       55      131.0\n",
            "24       60      140.0\n",
            "25       65      149.0\n",
            "26       70      158.0\n",
            "27       75      167.0\n",
            "28       80      176.0\n",
            "29       85      185.0\n"
          ]
        },
        {
          "output_type": "stream",
          "name": "stderr",
          "text": [
            "/usr/local/lib/python3.7/dist-packages/seaborn/_decorators.py:43: FutureWarning: Pass the following variables as keyword args: x, y. From version 0.12, the only valid positional argument will be `data`, and passing other arguments without an explicit keyword will result in an error or misinterpretation.\n",
            "  FutureWarning\n"
          ]
        },
        {
          "output_type": "display_data",
          "data": {
            "image/png": "[encoded data removed]",
            "text/plain": [
              "<Figure size 432x288 with 1 Axes>"
            ]
          },
          "metadata": {
            "needs_background": "light"
          }
        }
      ]
    },
    {
      "cell_type": "code",
      "metadata": {
        "id": "2L7_Juy4LX8F"
      },
      "source": [
        "#Entrenando una IA:\n",
        "  #Datos de entrenamiento\n",
        "celsius = temperaturas[\"celsius\"]\n",
        "farenheit = temperaturas[\"farenheit\"]"
      ],
      "execution_count": 25,
      "outputs": []
    },
    {
      "cell_type": "code",
      "metadata": {
        "id": "UGE3HVdpLzQk"
      },
      "source": [
        "#Entrenando una IA:\n",
        "  #Modelo de entrenamiento:\n",
        "\n",
        "modelo = tf.keras.Sequential()\n",
        "modelo.add(tf.keras.layers.Dense(units=1, input_shape=[1]))"
      ],
      "execution_count": 26,
      "outputs": []
    },
    {
      "cell_type": "code",
      "metadata": {
        "id": "nXaOX2SXOtm1"
      },
      "source": [
        "#Entrenando una IA:\n",
        "  #Compilar modelo:\n",
        "modelo.compile(optimizer=tf.keras.optimizers.Adam(1), loss='mean_squared_error')"
      ],
      "execution_count": 27,
      "outputs": []
    },
    {
      "cell_type": "code",
      "metadata": {
        "id": "YzvwrKUWPMzd"
      },
      "source": [
        "#Entrenando una IA:\n",
        "  #Entrenamiento:\n",
        "historial = modelo.fit(celsius, farenheit, epochs=200, verbose=0)"
      ],
      "execution_count": 36,
      "outputs": []
    },
    {
      "cell_type": "code",
      "metadata": {
        "colab": {
          "base_uri": "https://localhost:8080/",
          "height": 295
        },
        "id": "2mVT1yJ3ReHk",
        "outputId": "bb6ecd38-77f1-4db1-a1af-624b2c53526d"
      },
      "source": [
        "#Entrenando una IA:\n",
        "  #Evaluando el modelo\n",
        "plt.plot(historial.history[\"loss\"])\n",
        "plt.title(\"Progreso del aprendizaje\")\n",
        "plt.xlabel(\"vueltas\")\n",
        "plt.ylabel(\"Error de aprendizaje\")\n",
        "plt.legend(\"Aprendizaje automatico\")\n",
        "plt.show()"
      ],
      "execution_count": 37,
      "outputs": [
        {
          "output_type": "display_data",
          "data": {
            "image/png": "[encoded data removed]",
            "text/plain": [
              "<Figure size 432x288 with 1 Axes>"
            ]
          },
          "metadata": {
            "needs_background": "light"
          }
        }
      ]
    },
    {
      "cell_type": "code",
      "metadata": {
        "colab": {
          "base_uri": "https://localhost:8080/"
        },
        "id": "XdbuvBt_Pn0d",
        "outputId": "24ff1234-0e56-465d-f2e8-55c75b453762"
      },
      "source": [
        "#Entrenando una IA:\n",
        "  #Prueba\n",
        "f = modelo.predict([27])\n",
        "\n",
        "print(f)"
      ],
      "execution_count": 32,
      "outputs": [
        {
          "output_type": "stream",
          "name": "stdout",
          "text": [
            "[[80.28714]]\n"
          ]
        }
      ]
    }
  ]
}