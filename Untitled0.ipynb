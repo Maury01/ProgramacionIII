{
  "nbformat": 4,
  "nbformat_minor": 0,
  "metadata": {
    "colab": {
      "name": "Untitled0.ipynb",
      "provenance": [],
      "authorship_tag": "ABX9TyOjiy6dzVpLZs/D8FBBou6S",
      "include_colab_link": true
    },
    "kernelspec": {
      "name": "python3",
      "display_name": "Python 3"
    },
    "language_info": {
      "name": "python"
    }
  },
  "cells": [
    {
      "cell_type": "markdown",
      "metadata": {
        "id": "view-in-github",
        "colab_type": "text"
      },
      "source": [
        "<a href=\"https://colab.research.google.com/github/Maury01/ProgramacionIII/blob/main/Untitled0.ipynb\" target=\"_parent\"><img src=\"https://colab.research.google.com/assets/colab-badge.svg\" alt=\"Open In Colab\"/></a>"
      ]
    },
    {
      "cell_type": "code",
      "metadata": {
        "colab": {
          "base_uri": "https://localhost:8080/"
        },
        "id": "s4PlCka7WIiE",
        "outputId": "89c1d31d-c58f-4551-f653-39e58f3b815b"
      },
      "source": [
        "#Ejercicio 3\n",
        "nmeses = int(input(\"Meses: \"))\n",
        "i = 0\n",
        "acumulacion = 0\n",
        "while( i<= nmeses):\n",
        "  acumulacion += i\n",
        "  i+=1\n",
        "print(\"Meses: \", nmeses, \" acumulado: \", acumulacion)\n"
      ],
      "execution_count": null,
      "outputs": [
        {
          "output_type": "stream",
          "name": "stdout",
          "text": [
            "Meses: 8\n",
            "Meses:  8  acumulado:  36\n"
          ]
        }
      ]
    },
    {
      "cell_type": "code",
      "metadata": {
        "colab": {
          "base_uri": "https://localhost:8080/"
        },
        "id": "22W-yj9yaiYq",
        "outputId": "97ea4501-0d89-4cfc-8a8d-2dd3c852daea"
      },
      "source": [
        "nmeses = int(input(\"Meses:\" ))\n",
        "Cantidad = nmeses*(nmeses/2+0.5)\n",
        "print(\"El acumulado de: \", nmeses, \" Meses es: \", Cantidad)"
      ],
      "execution_count": null,
      "outputs": [
        {
          "output_type": "stream",
          "name": "stdout",
          "text": [
            "Meses:6\n",
            "El acumulado de:  6  Meses es:  21.0\n"
          ]
        }
      ]
    },
    {
      "cell_type": "code",
      "metadata": {
        "id": "VYFmipKLXZzk"
      },
      "source": [
        "#Ejercicio 4 conversor\n",
        "etiquetas = [\n",
        "            [],  #0\n",
        "            [0], #monedas\n",
        "            [0], #Longitud\n",
        "            [0], #Masa\n",
        "            [0], #Almacenamiento\n",
        "            [0], #Tiempo\n",
        "            [0], #Volumen\n",
        "            [0] #Area\n",
        "]\n",
        "valores = [\n",
        "           [],#\n",
        "           [0], #monedas\n",
        "           [0], #Longitud\n",
        "           [0], #Masa\n",
        "           [0], #Almacenamiento\n",
        "           [0], #Tiempo\n",
        "           [0], #Volumen\n",
        "           [0] #Area\n",
        "]\n",
        "def conversores(opcion, de, a, cantidad):\n",
        "  return valores[opcion][a] / valores[opcion][de] * cantidad\n",
        "\n",
        "print(\" ** MENU CONVERSORES ** \")\n",
        "print(\" 1. Monedas, \\n 2. Longitud \\n 3. Masa \\n 4. Almacenamiento \")\n",
        "opcion = int(input(\"CONVERSOR: \"))\n",
        "\n",
        "print( etiquetas[opcion] )\n",
        "de = int(input(\"DE: \"))\n",
        "a = int(input(\"A: \"))\n",
        "cantidad = float(input(\"Cantidad: \"))\n",
        "\n",
        "print( etiquetas[opcion][de], \" a \", etiquetas[opcion][a], \" es: \", conversores(opcion, de, a, cantidad) )"
      ],
      "execution_count": null,
      "outputs": []
    }
  ]
}